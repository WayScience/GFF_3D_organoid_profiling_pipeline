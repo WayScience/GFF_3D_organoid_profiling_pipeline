{
 "cells": [
  {
   "cell_type": "markdown",
   "metadata": {},
   "source": [
    "# Copy raw images into one folder to use for CellProfiler processing\n",
    "\n",
    "Currently, the images are located nest deep within multiple folders. \n",
    "For best practices, we will copy the images (preserving metadata) to one folder that can be used for CellProfiler processing.\n",
    "This file is modified from its original version: https://github.com/WayScience/GFF_2D_organoid_prototyping ."
   ]
  },
  {
   "cell_type": "markdown",
   "metadata": {},
   "source": [
    "## Import libraries"
   ]
  },
  {
   "cell_type": "code",
   "execution_count": 1,
   "metadata": {},
   "outputs": [],
   "source": [
    "import argparse\n",
    "import pathlib\n",
    "import shutil\n",
    "import sys\n",
    "\n",
    "import tqdm"
   ]
  },
  {
   "cell_type": "markdown",
   "metadata": {},
   "source": [
    "## Set paths and variables"
   ]
  },
  {
   "cell_type": "code",
   "execution_count": 2,
   "metadata": {},
   "outputs": [
    {
     "name": "stdout",
     "output_type": "stream",
     "text": [
      "HPC: False\n"
     ]
    }
   ],
   "source": [
    "argparse = argparse.ArgumentParser(\n",
    "    description=\"Copy files from one directory to another\"\n",
    ")\n",
    "argparse.add_argument(\n",
    "    \"--HPC\", type=bool, default=False, help=\"Type of compute to run on (default: False)\"\n",
    ")\n",
    "\n",
    "# Parse arguments\n",
    "args = argparse.parse_args(args=sys.argv[1:] if \"ipykernel\" not in sys.argv[0] else [])\n",
    "HPC = args.HPC\n",
    "\n",
    "print(f\"HPC: {HPC}\")"
   ]
  },
  {
   "cell_type": "code",
   "execution_count": 3,
   "metadata": {},
   "outputs": [],
   "source": [
    "# Define parent and destination directories in a single dictionary\n",
    "dir_mapping = {\n",
    "    # \"NF0014\": {\n",
    "    #     \"parent\": pathlib.Path(\n",
    "    #         \"/media/18tbdrive/GFF_organoid_data/Cell Painting-NF0014 Thawed3-Pilot Drug Screening/NF0014-Thawed 3 (Raw image files)-Combined/NF0014-Thawed 3 (Raw image files)-Combined copy\"\n",
    "    #         if not HPC\n",
    "    #         else \"/pl/active/koala/GFF_Data/GFF-Raw/NF0014-Thawed 3 (Raw image files)-Combined/NF0014-Thawed 3 (Raw image files)-Combined copy\"\n",
    "    #     ).resolve(strict=True),\n",
    "    #     \"destination\": pathlib.Path(\"../../data/NF0014_raw_images\").resolve(),\n",
    "    # },\n",
    "    \"NF0016\": {\n",
    "        \"parent\": pathlib.Path(\n",
    "            \"/media/18tbdrive/GFF_organoid_data/NF0016 Cell Painting-Pilot Drug Screening-selected/NF0016-Cell Painting Images/NF0016-images copy\"\n",
    "            if not HPC\n",
    "            else \"/pl/active/koala/GFF_Data/GFF-Raw/NF0016 Cell Painting-Pilot Drug Screening-selected/NF0016-Cell Painting Images/NF0016-images copy\"\n",
    "        ).resolve(strict=True),\n",
    "        \"destination\": pathlib.Path(\"../../data/NF0016_raw_images\").resolve(),\n",
    "    },\n",
    "    \"NF0018\": {\n",
    "        \"parent\": pathlib.Path(\n",
    "            \"/media/18tbdrive/GFF_organoid_data/NF0018 (T6) Cell Painting-Pilot Drug Screeining-selected/NF0018-Cell Painting Images/NF0018-All Acquisitions\"\n",
    "            if not HPC\n",
    "            else \"/pl/active/koala/GFF_Data/GFF-Raw/NF0018 (T6) Cell Painting-Pilot Drug Screeining-selected/NF0018-Cell Painting Images/NF0018-All Acquisitions\"\n",
    "        ).resolve(strict=True),\n",
    "        \"destination\": pathlib.Path(\"../../data/NF0018_raw_images\").resolve(),\n",
    "    },\n",
    "}\n",
    "\n",
    "# Image extensions that we are looking to copy\n",
    "image_extensions = {\".tif\", \".tiff\"}"
   ]
  },
  {
   "cell_type": "markdown",
   "metadata": {},
   "source": [
    "## Reach the nested images and copy to one folder"
   ]
  },
  {
   "cell_type": "markdown",
   "metadata": {},
   "source": [
    "Run this cell through the script"
   ]
  },
  {
   "cell_type": "code",
   "execution_count": 4,
   "metadata": {},
   "outputs": [
    {
     "name": "stdout",
     "output_type": "stream",
     "text": [
      "Processing NF0016: /media/18tbdrive/GFF_organoid_data/NF0016 Cell Painting-Pilot Drug Screening-selected/NF0016-Cell Painting Images/NF0016-images copy -> /media/18tbdrive/1.Github_Repositories/GFF_3D_organoid_profiling_pipeline/data/NF0016_raw_images\n"
     ]
    },
    {
     "name": "stderr",
     "output_type": "stream",
     "text": [
      "31788it [16:52, 31.39it/s]  \n"
     ]
    },
    {
     "name": "stdout",
     "output_type": "stream",
     "text": [
      "Completed processing NF0016: /media/18tbdrive/GFF_organoid_data/NF0016 Cell Painting-Pilot Drug Screening-selected/NF0016-Cell Painting Images/NF0016-images copy -> /media/18tbdrive/1.Github_Repositories/GFF_3D_organoid_profiling_pipeline/data/NF0016_raw_images\n",
      "Processing NF0018: /media/18tbdrive/GFF_organoid_data/NF0018 (T6) Cell Painting-Pilot Drug Screeining-selected/NF0018-Cell Painting Images/NF0018-All Acquisitions -> /media/18tbdrive/1.Github_Repositories/GFF_3D_organoid_profiling_pipeline/data/NF0018_raw_images\n"
     ]
    },
    {
     "name": "stderr",
     "output_type": "stream",
     "text": [
      "44682it [24:23, 30.53it/s]   "
     ]
    },
    {
     "name": "stdout",
     "output_type": "stream",
     "text": [
      "Completed processing NF0018: /media/18tbdrive/GFF_organoid_data/NF0018 (T6) Cell Painting-Pilot Drug Screeining-selected/NF0018-Cell Painting Images/NF0018-All Acquisitions -> /media/18tbdrive/1.Github_Repositories/GFF_3D_organoid_profiling_pipeline/data/NF0018_raw_images\n"
     ]
    },
    {
     "name": "stderr",
     "output_type": "stream",
     "text": [
      "\n"
     ]
    }
   ],
   "source": [
    "# Loop through each key in the mapping to copy data from the parent to the destination\n",
    "for key, paths in dir_mapping.items():\n",
    "    parent_dir = paths[\"parent\"]\n",
    "    dest_dir = paths[\"destination\"]\n",
    "\n",
    "    print(f\"Processing {key}: {parent_dir} -> {dest_dir}\")\n",
    "\n",
    "    # Ensure the destination directory exists\n",
    "    dest_dir.mkdir(parents=True, exist_ok=True)\n",
    "\n",
    "    # Loop through the well-level directories and copy the images\n",
    "    for image_file in tqdm.tqdm(parent_dir.rglob(\"*\")):\n",
    "        # Get all subdirectories\n",
    "        list_of_dirs = list(image_file.rglob(\"*\"))\n",
    "        list_of_dirs = [x for x in list_of_dirs if x.is_dir()]\n",
    "\n",
    "        for dir in list_of_dirs:\n",
    "            # Create the corresponding well directory in the destination\n",
    "            well_dir = dest_dir / dir.name\n",
    "            well_dir.mkdir(parents=True, exist_ok=True)\n",
    "\n",
    "            # Copy images that match the allowed extensions\n",
    "            for image in dir.rglob(\"*/*\"):\n",
    "                if image.suffix.lower() in image_extensions:\n",
    "                    shutil.copy2(image, well_dir)\n",
    "\n",
    "    print(f\"Completed processing {key}: {parent_dir} -> {dest_dir}\")"
   ]
  }
 ],
 "metadata": {
  "kernelspec": {
   "display_name": "gff_preprocessing_env",
   "language": "python",
   "name": "python3"
  },
  "language_info": {
   "codemirror_mode": {
    "name": "ipython",
    "version": 3
   },
   "file_extension": ".py",
   "mimetype": "text/x-python",
   "name": "python",
   "nbconvert_exporter": "python",
   "pygments_lexer": "ipython3",
   "version": "3.10.15"
  }
 },
 "nbformat": 4,
 "nbformat_minor": 2
}
