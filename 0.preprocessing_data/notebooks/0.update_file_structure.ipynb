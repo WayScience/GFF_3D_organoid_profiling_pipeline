{
    "cells": [
        {
            "cell_type": "markdown",
            "metadata": {},
            "source": [
                "# Copy raw images into one folder to use for CellProfiler processing\n",
                "\n",
                "Currently, the images are located nest deep within multiple folders. \n",
                "For best practices, we will copy the images (preserving metadata) to one folder that can be used for CellProfiler processing."
            ]
        },
        {
            "cell_type": "markdown",
            "metadata": {},
            "source": [
                "## Import libraries"
            ]
        },
        {
            "cell_type": "code",
            "execution_count": 1,
            "metadata": {},
            "outputs": [],
            "source": [
                "import argparse\n",
                "import pathlib\n",
                "import shutil\n",
                "\n",
                "import tqdm"
            ]
        },
        {
            "cell_type": "markdown",
            "metadata": {},
            "source": [
                "## Set paths and variables"
            ]
        },
        {
            "cell_type": "code",
            "execution_count": 2,
            "metadata": {},
            "outputs": [],
            "source": [
                "argparse = argparse.ArgumentParser(\n",
                "    description=\"Copy files from one directory to another\"\n",
                ")\n",
                "argparse.add_argument(\n",
                "    \"--HPC\", type=bool, help=\"Type of compute to run on\", required=True\n",
                ")\n",
                "\n",
                "args = argparse.parse_args()\n",
                "HPC = args.HPC"
            ]
        },
        {
            "cell_type": "code",
            "execution_count": 3,
            "metadata": {},
            "outputs": [],
            "source": [
                "# Define the parent directory containing all the nested folders\n",
                "if not HPC:\n",
                "    # local paths\n",
                "    parent_dir = pathlib.Path(\n",
                "        \"/home/lippincm/Desktop/18TB/Cell Painting-NF0014 Thawed3-Pilot Drug Screening/NF0014-Thawed 3 (Raw image files)-Combined/NF0014-Thawed 3 (Raw image files)-Combined copy\"\n",
                "    ).resolve(strict=True)\n",
                "else:\n",
                "    parent_dir = pathlib.Path(\n",
                "        \"/pl/active/koala/GFF_Data/GFF-Raw/NF0014-Thawed 3 (Raw image files)-Combined/NF0014-Thawed 3 (Raw image files)-Combined copy/\"\n",
                "    ).resolve(strict=True)\n",
                "\n",
                "# Create the NF0014 folder next to the parent_dir (same level in the hierarchy)\n",
                "nf0014_dir = pathlib.Path(\"../../data/raw_images\").resolve()\n",
                "\n",
                "nf0014_dir.mkdir(parents=True, exist_ok=True)\n",
                "\n",
                "# Image extensions that we are looking to copy\n",
                "image_extensions = {\".tif\", \".tiff\"}"
            ]
        },
        {
            "cell_type": "markdown",
            "metadata": {},
            "source": [
                "## Reach the nested images and copy to one folder"
            ]
        },
        {
            "cell_type": "markdown",
            "metadata": {},
            "source": [
                "Run this cell through the script"
            ]
        },
        {
            "cell_type": "code",
            "execution_count": null,
            "metadata": {},
            "outputs": [],
            "source": [
                "for image_file in tqdm.tqdm(parent_dir.rglob(\"*\")):\n",
                "    list_of_dirs = list(image_file.rglob(\"*\"))\n",
                "    list_of_dirs = [x for x in list_of_dirs if x.is_dir()]\n",
                "    for dir in list_of_dirs:\n",
                "        well_dir = nf0014_dir / dir.name\n",
                "        well_dir.mkdir(parents=True, exist_ok=True)\n",
                "        for image in dir.rglob(\"*/*\"):\n",
                "            if image.suffix in image_extensions:\n",
                "                shutil.copy2(image, well_dir)"
            ]
        }
    ],
    "metadata": {
        "kernelspec": {
            "display_name": "gff_preprocessing_env",
            "language": "python",
            "name": "python3"
        },
        "language_info": {
            "codemirror_mode": {
                "name": "ipython",
                "version": 3
            },
            "file_extension": ".py",
            "mimetype": "text/x-python",
            "name": "python",
            "nbconvert_exporter": "python",
            "pygments_lexer": "ipython3",
            "version": "3.10.15"
        }
    },
    "nbformat": 4,
    "nbformat_minor": 2
}
