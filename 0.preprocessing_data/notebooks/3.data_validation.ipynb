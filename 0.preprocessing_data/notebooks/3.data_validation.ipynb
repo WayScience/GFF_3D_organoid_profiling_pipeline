{
    "cells": [
        {
            "cell_type": "markdown",
            "metadata": {},
            "source": []
        },
        {
            "cell_type": "code",
            "execution_count": 1,
            "metadata": {},
            "outputs": [],
            "source": [
                "import pathlib\n",
                "\n",
                "import numpy as np\n",
                "import skimage.io as io"
            ]
        },
        {
            "cell_type": "code",
            "execution_count": 2,
            "metadata": {},
            "outputs": [],
            "source": [
                "def image_directory_check(\n",
                "    image_directory: pathlib.Path, expected_number_of_files: int = 5\n",
                ") -> int:\n",
                "    counter = 0\n",
                "    files = [x for x in image_directory.iterdir() if x.is_file()]\n",
                "    if len(files) < expected_number_of_files or len(files) > expected_number_of_files:\n",
                "        print(f\"{image_directory} has {len(files)} files\")\n",
                "        counter += 1\n",
                "    for file in files:\n",
                "        image = io.imread(file)\n",
                "        # check that image contains non-zero values\n",
                "        if np.count_nonzero(image) == 0:\n",
                "            print(f\"{file} contains only zeros\")\n",
                "            counter += 1\n",
                "    return counter"
            ]
        },
        {
            "cell_type": "code",
            "execution_count": 3,
            "metadata": {},
            "outputs": [],
            "source": [
                "z_stack_images_dir = pathlib.Path(\"../../data/z-stack_images/\").resolve(strict=True)\n",
                "normalized_z_stack_images_dir = pathlib.Path(\"../../data/normalized_z/\").resolve(\n",
                "    strict=True\n",
                ")"
            ]
        },
        {
            "cell_type": "code",
            "execution_count": 4,
            "metadata": {},
            "outputs": [
                {
                    "name": "stdout",
                    "output_type": "stream",
                    "text": [
                        "/home/lippincm/Documents/GFF_3D_organoid_profiling_pipeline/data/z-stack_images/F3-1/F3-1_555.tif contains only zeros\n",
                        "/home/lippincm/Documents/GFF_3D_organoid_profiling_pipeline/data/z-stack_images/F3-1/F3-1_488.tif contains only zeros\n",
                        "/home/lippincm/Documents/GFF_3D_organoid_profiling_pipeline/data/z-stack_images/F3-1/F3-1_405.tif contains only zeros\n",
                        "/home/lippincm/Documents/GFF_3D_organoid_profiling_pipeline/data/z-stack_images/F3-1/F3-1_TRANS.tif contains only zeros\n",
                        "/home/lippincm/Documents/GFF_3D_organoid_profiling_pipeline/data/z-stack_images/F3-1/F3-1_640.tif contains only zeros\n",
                        "/home/lippincm/Documents/GFF_3D_organoid_profiling_pipeline/data/normalized_z/F3-1 has 0 files\n",
                        "Total number of issues in z-stack images: 5\n",
                        "Total number of issues in normalized z-stack images: 1\n"
                    ]
                }
            ],
            "source": [
                "z_stack_images_dir_directories = [x for x in z_stack_images_dir.iterdir() if x.is_dir()]\n",
                "\n",
                "z_stack_counter = 0\n",
                "for dir in z_stack_images_dir_directories:\n",
                "    directory_counter = image_directory_check(\n",
                "        image_directory=dir, expected_number_of_files=5\n",
                "    )\n",
                "    z_stack_counter += directory_counter\n",
                "\n",
                "normalized_z_stack_images_dir_directories = [\n",
                "    x for x in normalized_z_stack_images_dir.iterdir() if x.is_dir()\n",
                "]\n",
                "normalized_z_stack_counter = 0\n",
                "for dir in normalized_z_stack_images_dir_directories:\n",
                "    directory_counter = image_directory_check(\n",
                "        image_directory=dir, expected_number_of_files=5\n",
                "    )\n",
                "    normalized_z_stack_counter += directory_counter\n",
                "\n",
                "print(f\"Total number of issues in z-stack images: {z_stack_counter}\")\n",
                "print(\n",
                "    f\"Total number of issues in normalized z-stack images: {normalized_z_stack_counter}\"\n",
                ")"
            ]
        }
    ],
    "metadata": {
        "kernelspec": {
            "display_name": "gff_preprocessing_env",
            "language": "python",
            "name": "python3"
        },
        "language_info": {
            "codemirror_mode": {
                "name": "ipython",
                "version": 3
            },
            "file_extension": ".py",
            "mimetype": "text/x-python",
            "name": "python",
            "nbconvert_exporter": "python",
            "pygments_lexer": "ipython3",
            "version": "3.10.15"
        }
    },
    "nbformat": 4,
    "nbformat_minor": 2
}
