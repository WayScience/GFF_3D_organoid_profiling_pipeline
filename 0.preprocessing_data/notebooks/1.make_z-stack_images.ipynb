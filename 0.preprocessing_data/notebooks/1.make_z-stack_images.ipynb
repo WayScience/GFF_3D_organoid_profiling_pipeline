{
 "cells": [
  {
   "cell_type": "markdown",
   "metadata": {},
   "source": [
    "# Create z-stack images from the individual z-slice images for each FOV per well"
   ]
  },
  {
   "cell_type": "markdown",
   "metadata": {},
   "source": [
    "## Import libraries"
   ]
  },
  {
   "cell_type": "code",
   "execution_count": 1,
   "metadata": {},
   "outputs": [],
   "source": [
    "import pathlib\n",
    "\n",
    "import numpy as np\n",
    "import tifffile as tiff\n",
    "import tqdm"
   ]
  },
  {
   "cell_type": "markdown",
   "metadata": {},
   "source": [
    "## Set input and output directories"
   ]
  },
  {
   "cell_type": "code",
   "execution_count": 2,
   "metadata": {},
   "outputs": [],
   "source": [
    "input_dir = pathlib.Path(\"../../data/NF0014_raw_images\").resolve(strict=True)\n",
    "\n",
    "output_z_stack_dir = pathlib.Path(\"../../data/NF0014_zstack_images\").resolve()\n",
    "output_z_stack_dir.mkdir(exist_ok=True, parents=True)"
   ]
  },
  {
   "cell_type": "markdown",
   "metadata": {},
   "source": [
    "## Create list of the well-site folders"
   ]
  },
  {
   "cell_type": "code",
   "execution_count": 3,
   "metadata": {},
   "outputs": [
    {
     "name": "stdout",
     "output_type": "stream",
     "text": [
      "There are 105 directories in the input directory.\n"
     ]
    }
   ],
   "source": [
    "# get a list of all dirs in the input dir\n",
    "input_dirs = [x for x in input_dir.iterdir() if x.is_dir()]\n",
    "input_dirs.sort()\n",
    "print(f\"There are {len(input_dirs)} directories in the input directory.\")"
   ]
  },
  {
   "cell_type": "markdown",
   "metadata": {},
   "source": [
    "## For the NF0014 dataset, remove the files for one of the z-slices due to missing channel (640)"
   ]
  },
  {
   "cell_type": "code",
   "execution_count": 4,
   "metadata": {},
   "outputs": [],
   "source": [
    "# Remove files containing 'ZS000' (first z-slice) in the F11-3 directory because it is missing 640 channel\n",
    "for file in pathlib.Path(f'{input_dir}/F11-3').glob('*ZS000*'):\n",
    "    file.unlink()\n",
    "    print(f\"Removed: {file}\")"
   ]
  },
  {
   "cell_type": "markdown",
   "metadata": {},
   "source": [
    "## Set the dictionary for filenames and filepaths"
   ]
  },
  {
   "cell_type": "code",
   "execution_count": 5,
   "metadata": {},
   "outputs": [
    {
     "data": {
      "text/plain": [
       "{'405': {'filename': [], 'filepath': []},\n",
       " '488': {'filename': [], 'filepath': []},\n",
       " '555': {'filename': [], 'filepath': []},\n",
       " '640': {'filename': [], 'filepath': []},\n",
       " 'TRANS': {'filename': [], 'filepath': []}}"
      ]
     },
     "execution_count": 5,
     "metadata": {},
     "output_type": "execute_result"
    }
   ],
   "source": [
    "image_extensions = {\".tif\", \".tiff\"}\n",
    "channel_names = [\"405\", \"488\", \"555\", \"640\", \"TRANS\"]\n",
    "# make a dictionary that contains a list for each channel name, storing both filepath and filename\n",
    "channel_images = {channel_name: {\"filename\": [], \"filepath\": []} for channel_name in channel_names}\n",
    "channel_images"
   ]
  },
  {
   "cell_type": "markdown",
   "metadata": {},
   "source": [
    "## Loop thorugh and create z-stack images for each FOV of each well in their respective directories."
   ]
  },
  {
   "cell_type": "code",
   "execution_count": 6,
   "metadata": {},
   "outputs": [
    {
     "name": "stderr",
     "output_type": "stream",
     "text": [
      "  0%|          | 0/105 [00:00<?, ?it/s]"
     ]
    },
    {
     "name": "stdout",
     "output_type": "stream",
     "text": [
      "Processing well_dir: C10-1\n",
      "Stacking channel 405\n",
      "Stacking channel 488\n",
      "Stacking channel 555\n",
      "Stacking channel 640\n",
      "Stacking channel TRANS\n"
     ]
    },
    {
     "name": "stderr",
     "output_type": "stream",
     "text": [
      "  1%|          | 1/105 [00:06<11:50,  6.83s/it]"
     ]
    },
    {
     "name": "stdout",
     "output_type": "stream",
     "text": [
      "Processing well_dir: C10-2\n",
      "Stacking channel 405\n",
      "Stacking channel 488\n",
      "Stacking channel 555\n",
      "Stacking channel 640\n",
      "Stacking channel TRANS\n"
     ]
    },
    {
     "name": "stderr",
     "output_type": "stream",
     "text": [
      "  2%|▏         | 2/105 [00:09<07:22,  4.30s/it]"
     ]
    },
    {
     "name": "stdout",
     "output_type": "stream",
     "text": [
      "Processing well_dir: C11-1\n",
      "Stacking channel 405\n",
      "Stacking channel 488\n",
      "Stacking channel 555\n",
      "Stacking channel 640\n",
      "Stacking channel TRANS\n"
     ]
    },
    {
     "name": "stderr",
     "output_type": "stream",
     "text": [
      "  3%|▎         | 3/105 [00:14<07:47,  4.58s/it]"
     ]
    },
    {
     "name": "stdout",
     "output_type": "stream",
     "text": [
      "Processing well_dir: C11-2\n",
      "Stacking channel 405\n",
      "Stacking channel 488\n",
      "Stacking channel 555\n",
      "Stacking channel 640\n",
      "Stacking channel TRANS\n"
     ]
    },
    {
     "name": "stderr",
     "output_type": "stream",
     "text": [
      "  4%|▍         | 4/105 [00:18<07:25,  4.41s/it]"
     ]
    },
    {
     "name": "stdout",
     "output_type": "stream",
     "text": [
      "Processing well_dir: C2-1\n",
      "Stacking channel 405\n",
      "Stacking channel 488\n"
     ]
    },
    {
     "name": "stderr",
     "output_type": "stream",
     "text": [
      "  5%|▍         | 5/105 [00:18<04:56,  2.97s/it]"
     ]
    },
    {
     "name": "stdout",
     "output_type": "stream",
     "text": [
      "Stacking channel 555\n",
      "Stacking channel 640\n",
      "Stacking channel TRANS\n",
      "Processing well_dir: C2-2\n",
      "Stacking channel 405\n",
      "Stacking channel 488\n",
      "Stacking channel 555\n"
     ]
    },
    {
     "name": "stderr",
     "output_type": "stream",
     "text": [
      "  6%|▌         | 6/105 [00:19<03:30,  2.12s/it]"
     ]
    },
    {
     "name": "stdout",
     "output_type": "stream",
     "text": [
      "Stacking channel 640\n",
      "Stacking channel TRANS\n",
      "Processing well_dir: C3-1\n",
      "Stacking channel 405\n",
      "Stacking channel 488\n",
      "Stacking channel 555\n",
      "Stacking channel 640\n",
      "Stacking channel TRANS\n"
     ]
    },
    {
     "name": "stderr",
     "output_type": "stream",
     "text": [
      "  7%|▋         | 7/105 [00:24<05:04,  3.10s/it]"
     ]
    },
    {
     "name": "stdout",
     "output_type": "stream",
     "text": [
      "Processing well_dir: C3-2\n",
      "Stacking channel 405\n",
      "Stacking channel 488\n",
      "Stacking channel 555\n",
      "Stacking channel 640\n",
      "Stacking channel TRANS\n"
     ]
    },
    {
     "name": "stderr",
     "output_type": "stream",
     "text": [
      "  8%|▊         | 8/105 [00:26<04:41,  2.91s/it]"
     ]
    },
    {
     "name": "stdout",
     "output_type": "stream",
     "text": [
      "Processing well_dir: C4-1\n",
      "Stacking channel 405\n",
      "Stacking channel 488\n",
      "Stacking channel 555\n",
      "Stacking channel 640\n",
      "Stacking channel TRANS\n"
     ]
    },
    {
     "name": "stderr",
     "output_type": "stream",
     "text": [
      "  9%|▊         | 9/105 [00:32<06:01,  3.76s/it]"
     ]
    },
    {
     "name": "stdout",
     "output_type": "stream",
     "text": [
      "Processing well_dir: C4-2\n",
      "Stacking channel 405\n",
      "Stacking channel 488\n",
      "Stacking channel 555\n",
      "Stacking channel 640\n",
      "Stacking channel TRANS\n"
     ]
    },
    {
     "name": "stderr",
     "output_type": "stream",
     "text": [
      " 10%|▉         | 10/105 [00:36<05:58,  3.77s/it]"
     ]
    },
    {
     "name": "stdout",
     "output_type": "stream",
     "text": [
      "Processing well_dir: C5-1\n",
      "Stacking channel 405\n",
      "Stacking channel 488\n",
      "Stacking channel 555\n",
      "Stacking channel 640\n",
      "Stacking channel TRANS\n"
     ]
    },
    {
     "name": "stderr",
     "output_type": "stream",
     "text": [
      " 10%|█         | 11/105 [00:52<12:03,  7.70s/it]"
     ]
    },
    {
     "name": "stdout",
     "output_type": "stream",
     "text": [
      "Processing well_dir: C5-2\n",
      "Stacking channel 405\n",
      "Stacking channel 488\n",
      "Stacking channel 555\n",
      "Stacking channel 640\n",
      "Stacking channel TRANS\n"
     ]
    },
    {
     "name": "stderr",
     "output_type": "stream",
     "text": [
      " 11%|█▏        | 12/105 [01:03<13:20,  8.61s/it]"
     ]
    },
    {
     "name": "stdout",
     "output_type": "stream",
     "text": [
      "Processing well_dir: C6-1\n",
      "Stacking channel 405\n",
      "Stacking channel 488\n",
      "Stacking channel 555\n",
      "Stacking channel 640\n",
      "Stacking channel TRANS\n"
     ]
    },
    {
     "name": "stderr",
     "output_type": "stream",
     "text": [
      " 12%|█▏        | 13/105 [01:15<14:36,  9.52s/it]"
     ]
    },
    {
     "name": "stdout",
     "output_type": "stream",
     "text": [
      "Processing well_dir: C6-2\n",
      "Stacking channel 405\n",
      "Stacking channel 488\n",
      "Stacking channel 555\n",
      "Stacking channel 640\n",
      "Stacking channel TRANS\n"
     ]
    },
    {
     "name": "stderr",
     "output_type": "stream",
     "text": [
      " 13%|█▎        | 14/105 [01:33<18:27, 12.17s/it]"
     ]
    },
    {
     "name": "stdout",
     "output_type": "stream",
     "text": [
      "Processing well_dir: C7-1\n",
      "Stacking channel 405\n",
      "Stacking channel 488\n",
      "Stacking channel 555\n",
      "Stacking channel 640\n",
      "Stacking channel TRANS\n"
     ]
    },
    {
     "name": "stderr",
     "output_type": "stream",
     "text": [
      " 14%|█▍        | 15/105 [01:41<16:31, 11.02s/it]"
     ]
    },
    {
     "name": "stdout",
     "output_type": "stream",
     "text": [
      "Processing well_dir: C7-2\n",
      "Stacking channel 405\n",
      "Stacking channel 488\n",
      "Stacking channel 555\n",
      "Stacking channel 640\n",
      "Stacking channel TRANS\n"
     ]
    },
    {
     "name": "stderr",
     "output_type": "stream",
     "text": [
      " 15%|█▌        | 16/105 [01:50<15:05, 10.17s/it]"
     ]
    },
    {
     "name": "stdout",
     "output_type": "stream",
     "text": [
      "Processing well_dir: C8-1\n",
      "Stacking channel 405\n",
      "Stacking channel 488\n",
      "Stacking channel 555\n",
      "Stacking channel 640\n",
      "Stacking channel TRANS\n"
     ]
    },
    {
     "name": "stderr",
     "output_type": "stream",
     "text": [
      " 16%|█▌        | 17/105 [01:58<14:16,  9.73s/it]"
     ]
    },
    {
     "name": "stdout",
     "output_type": "stream",
     "text": [
      "Processing well_dir: C8-2\n",
      "Stacking channel 405\n",
      "Stacking channel 488\n",
      "Stacking channel 555\n",
      "Stacking channel 640\n",
      "Stacking channel TRANS\n"
     ]
    },
    {
     "name": "stderr",
     "output_type": "stream",
     "text": [
      " 17%|█▋        | 18/105 [02:09<14:18,  9.87s/it]"
     ]
    },
    {
     "name": "stdout",
     "output_type": "stream",
     "text": [
      "Processing well_dir: C9-1\n",
      "Stacking channel 405\n",
      "Stacking channel 488\n",
      "Stacking channel 555\n",
      "Stacking channel 640\n",
      "Stacking channel TRANS\n"
     ]
    },
    {
     "name": "stderr",
     "output_type": "stream",
     "text": [
      " 18%|█▊        | 19/105 [02:19<14:35, 10.19s/it]"
     ]
    },
    {
     "name": "stdout",
     "output_type": "stream",
     "text": [
      "Processing well_dir: C9-2\n",
      "Stacking channel 405\n",
      "Stacking channel 488\n",
      "Stacking channel 555\n",
      "Stacking channel 640\n",
      "Stacking channel TRANS\n"
     ]
    },
    {
     "name": "stderr",
     "output_type": "stream",
     "text": [
      " 19%|█▉        | 20/105 [02:30<14:33, 10.28s/it]"
     ]
    },
    {
     "name": "stdout",
     "output_type": "stream",
     "text": [
      "Processing well_dir: D10-1\n",
      "Stacking channel 405\n",
      "Stacking channel 488\n",
      "Stacking channel 555\n",
      "Stacking channel 640\n",
      "Stacking channel TRANS\n"
     ]
    },
    {
     "name": "stderr",
     "output_type": "stream",
     "text": [
      " 20%|██        | 21/105 [02:36<12:30,  8.94s/it]"
     ]
    },
    {
     "name": "stdout",
     "output_type": "stream",
     "text": [
      "Processing well_dir: D10-2\n",
      "Stacking channel 405\n",
      "Stacking channel 488\n",
      "Stacking channel 555\n",
      "Stacking channel 640\n",
      "Stacking channel TRANS\n"
     ]
    },
    {
     "name": "stderr",
     "output_type": "stream",
     "text": [
      " 21%|██        | 22/105 [02:50<14:38, 10.59s/it]"
     ]
    },
    {
     "name": "stdout",
     "output_type": "stream",
     "text": [
      "Processing well_dir: D11-1\n",
      "Stacking channel 405\n",
      "Stacking channel 488\n",
      "Stacking channel 555\n",
      "Stacking channel 640\n",
      "Stacking channel TRANS\n"
     ]
    },
    {
     "name": "stderr",
     "output_type": "stream",
     "text": [
      " 22%|██▏       | 23/105 [03:07<16:49, 12.31s/it]"
     ]
    },
    {
     "name": "stdout",
     "output_type": "stream",
     "text": [
      "Processing well_dir: D11-2\n",
      "Stacking channel 405\n",
      "Stacking channel 488\n",
      "Stacking channel 555\n",
      "Stacking channel 640\n",
      "Stacking channel TRANS\n"
     ]
    },
    {
     "name": "stderr",
     "output_type": "stream",
     "text": [
      " 23%|██▎       | 24/105 [03:27<19:49, 14.68s/it]"
     ]
    },
    {
     "name": "stdout",
     "output_type": "stream",
     "text": [
      "Processing well_dir: D11-3\n",
      "Stacking channel 405\n",
      "Stacking channel 488\n",
      "Stacking channel 555\n",
      "Stacking channel 640\n",
      "Stacking channel TRANS\n"
     ]
    },
    {
     "name": "stderr",
     "output_type": "stream",
     "text": [
      " 24%|██▍       | 25/105 [03:38<18:18, 13.73s/it]"
     ]
    },
    {
     "name": "stdout",
     "output_type": "stream",
     "text": [
      "Processing well_dir: D2-1\n",
      "Stacking channel 405\n",
      "Stacking channel 488\n",
      "Stacking channel 555\n",
      "Stacking channel 640\n",
      "Stacking channel TRANS\n"
     ]
    },
    {
     "name": "stderr",
     "output_type": "stream",
     "text": [
      " 25%|██▍       | 26/105 [03:47<16:11, 12.30s/it]"
     ]
    },
    {
     "name": "stdout",
     "output_type": "stream",
     "text": [
      "Processing well_dir: D2-2\n",
      "Stacking channel 405\n",
      "Stacking channel 488\n",
      "Stacking channel 555\n",
      "Stacking channel 640\n",
      "Stacking channel TRANS\n"
     ]
    },
    {
     "name": "stderr",
     "output_type": "stream",
     "text": [
      " 26%|██▌       | 27/105 [03:51<12:51,  9.88s/it]"
     ]
    },
    {
     "name": "stdout",
     "output_type": "stream",
     "text": [
      "Processing well_dir: D2-3\n",
      "Stacking channel 405\n",
      "Stacking channel 488\n",
      "Stacking channel 555\n",
      "Stacking channel 640\n",
      "Stacking channel TRANS\n"
     ]
    },
    {
     "name": "stderr",
     "output_type": "stream",
     "text": [
      " 27%|██▋       | 28/105 [03:58<11:17,  8.80s/it]"
     ]
    },
    {
     "name": "stdout",
     "output_type": "stream",
     "text": [
      "Processing well_dir: D3-1\n",
      "Stacking channel 405\n",
      "Stacking channel 488\n",
      "Stacking channel 555\n",
      "Stacking channel 640\n",
      "Stacking channel TRANS\n"
     ]
    },
    {
     "name": "stderr",
     "output_type": "stream",
     "text": [
      " 28%|██▊       | 29/105 [04:06<10:48,  8.54s/it]"
     ]
    },
    {
     "name": "stdout",
     "output_type": "stream",
     "text": [
      "Processing well_dir: D3-2\n",
      "Stacking channel 405\n",
      "Stacking channel 488\n",
      "Stacking channel 555\n",
      "Stacking channel 640\n",
      "Stacking channel TRANS\n"
     ]
    },
    {
     "name": "stderr",
     "output_type": "stream",
     "text": [
      " 29%|██▊       | 30/105 [04:10<09:05,  7.28s/it]"
     ]
    },
    {
     "name": "stdout",
     "output_type": "stream",
     "text": [
      "Processing well_dir: D4-1\n",
      "Stacking channel 405\n",
      "Stacking channel 488\n",
      "Stacking channel 555\n",
      "Stacking channel 640\n",
      "Stacking channel TRANS\n"
     ]
    },
    {
     "name": "stderr",
     "output_type": "stream",
     "text": [
      " 30%|██▉       | 31/105 [04:30<13:37, 11.05s/it]"
     ]
    },
    {
     "name": "stdout",
     "output_type": "stream",
     "text": [
      "Processing well_dir: D4-2\n",
      "Stacking channel 405\n",
      "Stacking channel 488\n",
      "Stacking channel 555\n",
      "Stacking channel 640\n",
      "Stacking channel TRANS\n"
     ]
    },
    {
     "name": "stderr",
     "output_type": "stream",
     "text": [
      " 30%|███       | 32/105 [04:36<11:37,  9.56s/it]"
     ]
    },
    {
     "name": "stdout",
     "output_type": "stream",
     "text": [
      "Processing well_dir: D5-1\n",
      "Stacking channel 405\n",
      "Stacking channel 488\n",
      "Stacking channel 555\n",
      "Stacking channel 640\n",
      "Stacking channel TRANS\n"
     ]
    },
    {
     "name": "stderr",
     "output_type": "stream",
     "text": [
      " 31%|███▏      | 33/105 [04:39<09:00,  7.50s/it]"
     ]
    },
    {
     "name": "stdout",
     "output_type": "stream",
     "text": [
      "Processing well_dir: D5-2\n",
      "Stacking channel 405\n",
      "Stacking channel 488\n",
      "Stacking channel 555\n",
      "Stacking channel 640\n",
      "Stacking channel TRANS\n"
     ]
    },
    {
     "name": "stderr",
     "output_type": "stream",
     "text": [
      " 32%|███▏      | 34/105 [04:45<08:33,  7.23s/it]"
     ]
    },
    {
     "name": "stdout",
     "output_type": "stream",
     "text": [
      "Processing well_dir: D6-1\n",
      "Stacking channel 405\n",
      "Stacking channel 488\n",
      "Stacking channel 555\n",
      "Stacking channel 640\n",
      "Stacking channel TRANS\n"
     ]
    },
    {
     "name": "stderr",
     "output_type": "stream",
     "text": [
      " 33%|███▎      | 35/105 [05:01<11:29,  9.85s/it]"
     ]
    },
    {
     "name": "stdout",
     "output_type": "stream",
     "text": [
      "Processing well_dir: D6-2\n",
      "Stacking channel 405\n",
      "Stacking channel 488\n",
      "Stacking channel 555\n",
      "Stacking channel 640\n",
      "Stacking channel TRANS\n"
     ]
    },
    {
     "name": "stderr",
     "output_type": "stream",
     "text": [
      " 34%|███▍      | 36/105 [05:12<11:31, 10.02s/it]"
     ]
    },
    {
     "name": "stdout",
     "output_type": "stream",
     "text": [
      "Processing well_dir: D7-1\n",
      "Stacking channel 405\n",
      "Stacking channel 488\n",
      "Stacking channel 555\n",
      "Stacking channel 640\n",
      "Stacking channel TRANS\n"
     ]
    },
    {
     "name": "stderr",
     "output_type": "stream",
     "text": [
      " 35%|███▌      | 37/105 [05:27<13:12, 11.66s/it]"
     ]
    },
    {
     "name": "stdout",
     "output_type": "stream",
     "text": [
      "Processing well_dir: D7-2\n",
      "Stacking channel 405\n",
      "Stacking channel 488\n",
      "Stacking channel 555\n",
      "Stacking channel 640\n",
      "Stacking channel TRANS\n"
     ]
    },
    {
     "name": "stderr",
     "output_type": "stream",
     "text": [
      " 36%|███▌      | 38/105 [05:35<11:43, 10.51s/it]"
     ]
    },
    {
     "name": "stdout",
     "output_type": "stream",
     "text": [
      "Processing well_dir: D8-1\n",
      "Stacking channel 405\n",
      "Stacking channel 488\n",
      "Stacking channel 555\n",
      "Stacking channel 640\n",
      "Stacking channel TRANS\n"
     ]
    },
    {
     "name": "stderr",
     "output_type": "stream",
     "text": [
      " 37%|███▋      | 39/105 [05:46<11:48, 10.73s/it]"
     ]
    },
    {
     "name": "stdout",
     "output_type": "stream",
     "text": [
      "Processing well_dir: D8-2\n",
      "Stacking channel 405\n",
      "Stacking channel 488\n",
      "Stacking channel 555\n",
      "Stacking channel 640\n",
      "Stacking channel TRANS\n"
     ]
    },
    {
     "name": "stderr",
     "output_type": "stream",
     "text": [
      " 38%|███▊      | 40/105 [05:57<11:41, 10.79s/it]"
     ]
    },
    {
     "name": "stdout",
     "output_type": "stream",
     "text": [
      "Processing well_dir: D9-1\n",
      "Stacking channel 405\n",
      "Stacking channel 488\n",
      "Stacking channel 555\n",
      "Stacking channel 640\n",
      "Stacking channel TRANS\n"
     ]
    },
    {
     "name": "stderr",
     "output_type": "stream",
     "text": [
      " 39%|███▉      | 41/105 [06:13<13:11, 12.37s/it]"
     ]
    },
    {
     "name": "stdout",
     "output_type": "stream",
     "text": [
      "Processing well_dir: D9-2\n",
      "Stacking channel 405\n",
      "Stacking channel 488\n",
      "Stacking channel 555\n",
      "Stacking channel 640\n",
      "Stacking channel TRANS\n"
     ]
    },
    {
     "name": "stderr",
     "output_type": "stream",
     "text": [
      " 40%|████      | 42/105 [06:36<16:17, 15.52s/it]"
     ]
    },
    {
     "name": "stdout",
     "output_type": "stream",
     "text": [
      "Processing well_dir: D9-3\n",
      "Stacking channel 405\n",
      "Stacking channel 488\n",
      "Stacking channel 555\n",
      "Stacking channel 640\n",
      "Stacking channel TRANS\n"
     ]
    },
    {
     "name": "stderr",
     "output_type": "stream",
     "text": [
      " 41%|████      | 43/105 [06:53<16:35, 16.06s/it]"
     ]
    },
    {
     "name": "stdout",
     "output_type": "stream",
     "text": [
      "Processing well_dir: E10-1\n",
      "Stacking channel 405\n",
      "Stacking channel 488\n",
      "Stacking channel 555\n",
      "Stacking channel 640\n",
      "Stacking channel TRANS\n"
     ]
    },
    {
     "name": "stderr",
     "output_type": "stream",
     "text": [
      " 42%|████▏     | 44/105 [06:57<12:40, 12.47s/it]"
     ]
    },
    {
     "name": "stdout",
     "output_type": "stream",
     "text": [
      "Processing well_dir: E10-2\n",
      "Stacking channel 405\n",
      "Stacking channel 488\n",
      "Stacking channel 555\n",
      "Stacking channel 640\n",
      "Stacking channel TRANS\n"
     ]
    },
    {
     "name": "stderr",
     "output_type": "stream",
     "text": [
      " 43%|████▎     | 45/105 [07:03<10:29, 10.49s/it]"
     ]
    },
    {
     "name": "stdout",
     "output_type": "stream",
     "text": [
      "Processing well_dir: E11-1\n",
      "Stacking channel 405\n",
      "Stacking channel 488\n",
      "Stacking channel 555\n",
      "Stacking channel 640\n",
      "Stacking channel TRANS\n"
     ]
    },
    {
     "name": "stderr",
     "output_type": "stream",
     "text": [
      " 44%|████▍     | 46/105 [07:12<09:44,  9.91s/it]"
     ]
    },
    {
     "name": "stdout",
     "output_type": "stream",
     "text": [
      "Processing well_dir: E11-2\n",
      "Stacking channel 405\n",
      "Stacking channel 488\n",
      "Stacking channel 555\n",
      "Stacking channel 640\n",
      "Stacking channel TRANS\n"
     ]
    },
    {
     "name": "stderr",
     "output_type": "stream",
     "text": [
      " 45%|████▍     | 47/105 [07:21<09:14,  9.56s/it]"
     ]
    },
    {
     "name": "stdout",
     "output_type": "stream",
     "text": [
      "Processing well_dir: E2-1\n",
      "Stacking channel 405\n",
      "Stacking channel 488\n",
      "Stacking channel 555\n",
      "Stacking channel 640\n",
      "Stacking channel TRANS\n"
     ]
    },
    {
     "name": "stderr",
     "output_type": "stream",
     "text": [
      " 46%|████▌     | 48/105 [07:29<08:42,  9.17s/it]"
     ]
    },
    {
     "name": "stdout",
     "output_type": "stream",
     "text": [
      "Processing well_dir: E2-2\n",
      "Stacking channel 405\n",
      "Stacking channel 488\n",
      "Stacking channel 555\n",
      "Stacking channel 640\n",
      "Stacking channel TRANS\n"
     ]
    },
    {
     "name": "stderr",
     "output_type": "stream",
     "text": [
      " 47%|████▋     | 49/105 [07:35<07:37,  8.17s/it]"
     ]
    },
    {
     "name": "stdout",
     "output_type": "stream",
     "text": [
      "Processing well_dir: E3-1\n",
      "Stacking channel 405\n",
      "Stacking channel 488\n",
      "Stacking channel 555\n",
      "Stacking channel 640\n",
      "Stacking channel TRANS\n"
     ]
    },
    {
     "name": "stderr",
     "output_type": "stream",
     "text": [
      " 48%|████▊     | 50/105 [07:44<07:51,  8.58s/it]"
     ]
    },
    {
     "name": "stdout",
     "output_type": "stream",
     "text": [
      "Processing well_dir: E3-2\n",
      "Stacking channel 405\n",
      "Stacking channel 488\n",
      "Stacking channel 555\n",
      "Stacking channel 640\n",
      "Stacking channel TRANS\n"
     ]
    },
    {
     "name": "stderr",
     "output_type": "stream",
     "text": [
      " 49%|████▊     | 51/105 [07:54<08:10,  9.08s/it]"
     ]
    },
    {
     "name": "stdout",
     "output_type": "stream",
     "text": [
      "Processing well_dir: E4-1\n",
      "Stacking channel 405\n",
      "Stacking channel 488\n",
      "Stacking channel 555\n",
      "Stacking channel 640\n",
      "Stacking channel TRANS\n"
     ]
    },
    {
     "name": "stderr",
     "output_type": "stream",
     "text": [
      " 50%|████▉     | 52/105 [08:11<09:53, 11.20s/it]"
     ]
    },
    {
     "name": "stdout",
     "output_type": "stream",
     "text": [
      "Processing well_dir: E4-2\n",
      "Stacking channel 405\n",
      "Stacking channel 488\n",
      "Stacking channel 555\n",
      "Stacking channel 640\n",
      "Stacking channel TRANS\n"
     ]
    },
    {
     "name": "stderr",
     "output_type": "stream",
     "text": [
      " 50%|█████     | 53/105 [08:23<10:05, 11.64s/it]"
     ]
    },
    {
     "name": "stdout",
     "output_type": "stream",
     "text": [
      "Processing well_dir: E5-1\n",
      "Stacking channel 405\n",
      "Stacking channel 488\n",
      "Stacking channel 555\n",
      "Stacking channel 640\n",
      "Stacking channel TRANS\n"
     ]
    },
    {
     "name": "stderr",
     "output_type": "stream",
     "text": [
      " 51%|█████▏    | 54/105 [08:26<07:42,  9.06s/it]"
     ]
    },
    {
     "name": "stdout",
     "output_type": "stream",
     "text": [
      "Processing well_dir: E5-2\n",
      "Stacking channel 405\n",
      "Stacking channel 488\n",
      "Stacking channel 555\n",
      "Stacking channel 640\n",
      "Stacking channel TRANS\n"
     ]
    },
    {
     "name": "stderr",
     "output_type": "stream",
     "text": [
      " 52%|█████▏    | 55/105 [08:29<06:00,  7.21s/it]"
     ]
    },
    {
     "name": "stdout",
     "output_type": "stream",
     "text": [
      "Processing well_dir: E6-1\n",
      "Stacking channel 405\n",
      "Stacking channel 488\n",
      "Stacking channel 555\n",
      "Stacking channel 640\n",
      "Stacking channel TRANS\n"
     ]
    },
    {
     "name": "stderr",
     "output_type": "stream",
     "text": [
      " 53%|█████▎    | 56/105 [08:50<09:16, 11.35s/it]"
     ]
    },
    {
     "name": "stdout",
     "output_type": "stream",
     "text": [
      "Processing well_dir: E6-2\n",
      "Stacking channel 405\n",
      "Stacking channel 488\n",
      "Stacking channel 555\n",
      "Stacking channel 640\n",
      "Stacking channel TRANS\n"
     ]
    },
    {
     "name": "stderr",
     "output_type": "stream",
     "text": [
      " 54%|█████▍    | 57/105 [08:58<08:07, 10.16s/it]"
     ]
    },
    {
     "name": "stdout",
     "output_type": "stream",
     "text": [
      "Processing well_dir: E7-1\n",
      "Stacking channel 405\n",
      "Stacking channel 488\n",
      "Stacking channel 555\n",
      "Stacking channel 640\n",
      "Stacking channel TRANS\n"
     ]
    },
    {
     "name": "stderr",
     "output_type": "stream",
     "text": [
      " 55%|█████▌    | 58/105 [09:02<06:36,  8.44s/it]"
     ]
    },
    {
     "name": "stdout",
     "output_type": "stream",
     "text": [
      "Processing well_dir: E7-2\n",
      "Stacking channel 405\n",
      "Stacking channel 488\n",
      "Stacking channel 555\n",
      "Stacking channel 640\n",
      "Stacking channel TRANS\n"
     ]
    },
    {
     "name": "stderr",
     "output_type": "stream",
     "text": [
      " 56%|█████▌    | 59/105 [09:11<06:40,  8.71s/it]"
     ]
    },
    {
     "name": "stdout",
     "output_type": "stream",
     "text": [
      "Processing well_dir: E8-1\n",
      "Stacking channel 405\n",
      "Stacking channel 488\n",
      "Stacking channel 555\n",
      "Stacking channel 640\n",
      "Stacking channel TRANS\n"
     ]
    },
    {
     "name": "stderr",
     "output_type": "stream",
     "text": [
      " 57%|█████▋    | 60/105 [09:22<06:53,  9.18s/it]"
     ]
    },
    {
     "name": "stdout",
     "output_type": "stream",
     "text": [
      "Processing well_dir: E8-2\n",
      "Stacking channel 405\n",
      "Stacking channel 488\n",
      "Stacking channel 555\n",
      "Stacking channel 640\n",
      "Stacking channel TRANS\n"
     ]
    },
    {
     "name": "stderr",
     "output_type": "stream",
     "text": [
      " 58%|█████▊    | 61/105 [09:42<09:16, 12.65s/it]"
     ]
    },
    {
     "name": "stdout",
     "output_type": "stream",
     "text": [
      "Processing well_dir: E9-1\n",
      "Stacking channel 405\n",
      "Stacking channel 488\n",
      "Stacking channel 555\n",
      "Stacking channel 640\n",
      "Stacking channel TRANS\n"
     ]
    },
    {
     "name": "stderr",
     "output_type": "stream",
     "text": [
      " 59%|█████▉    | 62/105 [09:55<09:06, 12.71s/it]"
     ]
    },
    {
     "name": "stdout",
     "output_type": "stream",
     "text": [
      "Processing well_dir: F10-1\n",
      "Stacking channel 405\n",
      "Stacking channel 488\n",
      "Stacking channel 555\n",
      "Stacking channel 640\n",
      "Stacking channel TRANS\n"
     ]
    },
    {
     "name": "stderr",
     "output_type": "stream",
     "text": [
      " 60%|██████    | 63/105 [10:11<09:38, 13.77s/it]"
     ]
    },
    {
     "name": "stdout",
     "output_type": "stream",
     "text": [
      "Processing well_dir: F10-2\n",
      "Stacking channel 405\n",
      "Stacking channel 488\n",
      "Stacking channel 555\n",
      "Stacking channel 640\n",
      "Stacking channel TRANS\n"
     ]
    },
    {
     "name": "stderr",
     "output_type": "stream",
     "text": [
      " 61%|██████    | 64/105 [10:27<09:45, 14.27s/it]"
     ]
    },
    {
     "name": "stdout",
     "output_type": "stream",
     "text": [
      "Processing well_dir: F11-1\n",
      "Stacking channel 405\n",
      "Stacking channel 488\n",
      "Stacking channel 555\n",
      "Stacking channel 640\n",
      "Stacking channel TRANS\n"
     ]
    },
    {
     "name": "stderr",
     "output_type": "stream",
     "text": [
      " 62%|██████▏   | 65/105 [10:46<10:27, 15.68s/it]"
     ]
    },
    {
     "name": "stdout",
     "output_type": "stream",
     "text": [
      "Processing well_dir: F11-2\n",
      "Stacking channel 405\n",
      "Stacking channel 488\n",
      "Stacking channel 555\n",
      "Stacking channel 640\n",
      "Stacking channel TRANS\n"
     ]
    },
    {
     "name": "stderr",
     "output_type": "stream",
     "text": [
      " 63%|██████▎   | 66/105 [10:53<08:28, 13.03s/it]"
     ]
    },
    {
     "name": "stdout",
     "output_type": "stream",
     "text": [
      "Processing well_dir: F11-3\n",
      "Stacking channel 405\n",
      "Stacking channel 488\n",
      "Stacking channel 555\n",
      "Stacking channel 640\n",
      "Stacking channel TRANS\n"
     ]
    },
    {
     "name": "stderr",
     "output_type": "stream",
     "text": [
      " 64%|██████▍   | 67/105 [11:02<07:29, 11.82s/it]"
     ]
    },
    {
     "name": "stdout",
     "output_type": "stream",
     "text": [
      "Processing well_dir: F2-1\n",
      "Stacking channel 405\n",
      "Stacking channel 488\n",
      "Stacking channel 555\n",
      "Stacking channel 640\n",
      "Stacking channel TRANS\n"
     ]
    },
    {
     "name": "stderr",
     "output_type": "stream",
     "text": [
      " 65%|██████▍   | 68/105 [11:07<06:08,  9.97s/it]"
     ]
    },
    {
     "name": "stdout",
     "output_type": "stream",
     "text": [
      "Processing well_dir: F2-2\n",
      "Stacking channel 405\n",
      "Stacking channel 488\n",
      "Stacking channel 555\n",
      "Stacking channel 640\n",
      "Stacking channel TRANS\n"
     ]
    },
    {
     "name": "stderr",
     "output_type": "stream",
     "text": [
      " 66%|██████▌   | 69/105 [11:12<04:56,  8.25s/it]"
     ]
    },
    {
     "name": "stdout",
     "output_type": "stream",
     "text": [
      "Processing well_dir: F3-1\n",
      "Stacking channel 405\n",
      "Stacking channel 488\n",
      "Stacking channel 555\n",
      "Stacking channel 640\n",
      "Stacking channel TRANS\n"
     ]
    },
    {
     "name": "stderr",
     "output_type": "stream",
     "text": [
      " 67%|██████▋   | 70/105 [11:25<05:46,  9.89s/it]"
     ]
    },
    {
     "name": "stdout",
     "output_type": "stream",
     "text": [
      "Processing well_dir: F3-2\n",
      "No files found for channel 405 in /media/18tbdrive/1.Github_Repositories/GFF_3D_organoid_profiling_pipeline/data/NF0014_raw_images/F3-2. Skipping...\n",
      "No files found for channel 488 in /media/18tbdrive/1.Github_Repositories/GFF_3D_organoid_profiling_pipeline/data/NF0014_raw_images/F3-2. Skipping...\n",
      "No files found for channel 555 in /media/18tbdrive/1.Github_Repositories/GFF_3D_organoid_profiling_pipeline/data/NF0014_raw_images/F3-2. Skipping...\n",
      "No files found for channel 640 in /media/18tbdrive/1.Github_Repositories/GFF_3D_organoid_profiling_pipeline/data/NF0014_raw_images/F3-2. Skipping...\n",
      "No files found for channel TRANS in /media/18tbdrive/1.Github_Repositories/GFF_3D_organoid_profiling_pipeline/data/NF0014_raw_images/F3-2. Skipping...\n",
      "Processing well_dir: F4-1\n",
      "Stacking channel 405\n",
      "Stacking channel 488\n",
      "Stacking channel 555\n",
      "Stacking channel 640\n",
      "Stacking channel TRANS\n"
     ]
    },
    {
     "name": "stderr",
     "output_type": "stream",
     "text": [
      " 69%|██████▊   | 72/105 [11:39<04:41,  8.53s/it]"
     ]
    },
    {
     "name": "stdout",
     "output_type": "stream",
     "text": [
      "Processing well_dir: F4-2\n",
      "Stacking channel 405\n",
      "Stacking channel 488\n",
      "Stacking channel 555\n",
      "Stacking channel 640\n",
      "Stacking channel TRANS\n"
     ]
    },
    {
     "name": "stderr",
     "output_type": "stream",
     "text": [
      " 70%|██████▉   | 73/105 [11:59<06:01, 11.29s/it]"
     ]
    },
    {
     "name": "stdout",
     "output_type": "stream",
     "text": [
      "Processing well_dir: F4-3\n",
      "Stacking channel 405\n",
      "Stacking channel 488\n",
      "Stacking channel 555\n",
      "Stacking channel 640\n",
      "Stacking channel TRANS\n"
     ]
    },
    {
     "name": "stderr",
     "output_type": "stream",
     "text": [
      " 70%|███████   | 74/105 [12:13<06:16, 12.13s/it]"
     ]
    },
    {
     "name": "stdout",
     "output_type": "stream",
     "text": [
      "Processing well_dir: F5-1\n",
      "Stacking channel 405\n",
      "Stacking channel 488\n",
      "Stacking channel 555\n",
      "Stacking channel 640\n",
      "Stacking channel TRANS\n"
     ]
    },
    {
     "name": "stderr",
     "output_type": "stream",
     "text": [
      " 71%|███████▏  | 75/105 [12:30<06:39, 13.33s/it]"
     ]
    },
    {
     "name": "stdout",
     "output_type": "stream",
     "text": [
      "Processing well_dir: F5-2\n",
      "Stacking channel 405\n",
      "Stacking channel 488\n",
      "Stacking channel 555\n",
      "Stacking channel 640\n",
      "Stacking channel TRANS\n"
     ]
    },
    {
     "name": "stderr",
     "output_type": "stream",
     "text": [
      " 72%|███████▏  | 76/105 [12:43<06:21, 13.16s/it]"
     ]
    },
    {
     "name": "stdout",
     "output_type": "stream",
     "text": [
      "Processing well_dir: F6-1\n",
      "Stacking channel 405\n",
      "Stacking channel 488\n",
      "Stacking channel 555\n",
      "Stacking channel 640\n",
      "Stacking channel TRANS\n"
     ]
    },
    {
     "name": "stderr",
     "output_type": "stream",
     "text": [
      " 73%|███████▎  | 77/105 [12:58<06:24, 13.74s/it]"
     ]
    },
    {
     "name": "stdout",
     "output_type": "stream",
     "text": [
      "Processing well_dir: F6-2\n",
      "Stacking channel 405\n",
      "Stacking channel 488\n",
      "Stacking channel 555\n",
      "Stacking channel 640\n",
      "Stacking channel TRANS\n"
     ]
    },
    {
     "name": "stderr",
     "output_type": "stream",
     "text": [
      " 74%|███████▍  | 78/105 [13:17<06:56, 15.43s/it]"
     ]
    },
    {
     "name": "stdout",
     "output_type": "stream",
     "text": [
      "Processing well_dir: F7-1\n",
      "Stacking channel 405\n",
      "Stacking channel 488\n",
      "Stacking channel 555\n",
      "Stacking channel 640\n",
      "Stacking channel TRANS\n"
     ]
    },
    {
     "name": "stderr",
     "output_type": "stream",
     "text": [
      " 75%|███████▌  | 79/105 [13:27<05:59, 13.81s/it]"
     ]
    },
    {
     "name": "stdout",
     "output_type": "stream",
     "text": [
      "Processing well_dir: F7-2\n",
      "Stacking channel 405\n",
      "Stacking channel 488\n",
      "Stacking channel 555\n",
      "Stacking channel 640\n",
      "Stacking channel TRANS\n"
     ]
    },
    {
     "name": "stderr",
     "output_type": "stream",
     "text": [
      " 76%|███████▌  | 80/105 [13:41<05:42, 13.71s/it]"
     ]
    },
    {
     "name": "stdout",
     "output_type": "stream",
     "text": [
      "Processing well_dir: F8-1\n",
      "Stacking channel 405\n",
      "Stacking channel 488\n",
      "Stacking channel 555\n",
      "Stacking channel 640\n",
      "Stacking channel TRANS\n"
     ]
    },
    {
     "name": "stderr",
     "output_type": "stream",
     "text": [
      " 77%|███████▋  | 81/105 [13:49<04:46, 11.95s/it]"
     ]
    },
    {
     "name": "stdout",
     "output_type": "stream",
     "text": [
      "Processing well_dir: F8-2\n",
      "Stacking channel 405\n",
      "Stacking channel 488\n",
      "Stacking channel 555\n",
      "Stacking channel 640\n",
      "Stacking channel TRANS\n"
     ]
    },
    {
     "name": "stderr",
     "output_type": "stream",
     "text": [
      " 78%|███████▊  | 82/105 [14:05<05:04, 13.23s/it]"
     ]
    },
    {
     "name": "stdout",
     "output_type": "stream",
     "text": [
      "Processing well_dir: F9-1\n",
      "Stacking channel 405\n",
      "Stacking channel 488\n",
      "Stacking channel 555\n",
      "Stacking channel 640\n",
      "Stacking channel TRANS\n"
     ]
    },
    {
     "name": "stderr",
     "output_type": "stream",
     "text": [
      " 79%|███████▉  | 83/105 [14:11<04:05, 11.17s/it]"
     ]
    },
    {
     "name": "stdout",
     "output_type": "stream",
     "text": [
      "Processing well_dir: F9-2\n",
      "Stacking channel 405\n",
      "Stacking channel 488\n",
      "Stacking channel 555\n",
      "Stacking channel 640\n",
      "Stacking channel TRANS\n"
     ]
    },
    {
     "name": "stderr",
     "output_type": "stream",
     "text": [
      " 80%|████████  | 84/105 [14:26<04:20, 12.38s/it]"
     ]
    },
    {
     "name": "stdout",
     "output_type": "stream",
     "text": [
      "Processing well_dir: G10-1\n",
      "Stacking channel 405\n",
      "Stacking channel 488\n",
      "Stacking channel 555\n",
      "Stacking channel 640\n",
      "Stacking channel TRANS\n"
     ]
    },
    {
     "name": "stderr",
     "output_type": "stream",
     "text": [
      " 81%|████████  | 85/105 [14:44<04:40, 14.04s/it]"
     ]
    },
    {
     "name": "stdout",
     "output_type": "stream",
     "text": [
      "Processing well_dir: G10-2\n",
      "Stacking channel 405\n",
      "Stacking channel 488\n",
      "Stacking channel 555\n",
      "Stacking channel 640\n",
      "Stacking channel TRANS\n"
     ]
    },
    {
     "name": "stderr",
     "output_type": "stream",
     "text": [
      " 82%|████████▏ | 86/105 [14:57<04:20, 13.72s/it]"
     ]
    },
    {
     "name": "stdout",
     "output_type": "stream",
     "text": [
      "Processing well_dir: G10-3\n",
      "Stacking channel 405\n",
      "Stacking channel 488\n",
      "Stacking channel 555\n",
      "Stacking channel 640\n",
      "Stacking channel TRANS\n"
     ]
    },
    {
     "name": "stderr",
     "output_type": "stream",
     "text": [
      " 83%|████████▎ | 87/105 [15:10<04:02, 13.47s/it]"
     ]
    },
    {
     "name": "stdout",
     "output_type": "stream",
     "text": [
      "Processing well_dir: G11-1\n",
      "Stacking channel 405\n",
      "Stacking channel 488\n",
      "Stacking channel 555\n",
      "Stacking channel 640\n",
      "Stacking channel TRANS\n"
     ]
    },
    {
     "name": "stderr",
     "output_type": "stream",
     "text": [
      " 84%|████████▍ | 88/105 [15:17<03:14, 11.43s/it]"
     ]
    },
    {
     "name": "stdout",
     "output_type": "stream",
     "text": [
      "Processing well_dir: G11-2\n",
      "Stacking channel 405\n",
      "Stacking channel 488\n",
      "Stacking channel 555\n",
      "Stacking channel 640\n",
      "Stacking channel TRANS\n"
     ]
    },
    {
     "name": "stderr",
     "output_type": "stream",
     "text": [
      " 85%|████████▍ | 89/105 [15:25<02:47, 10.46s/it]"
     ]
    },
    {
     "name": "stdout",
     "output_type": "stream",
     "text": [
      "Processing well_dir: G2-1\n",
      "Stacking channel 405\n",
      "Stacking channel 488\n",
      "Stacking channel 555\n",
      "Stacking channel 640\n",
      "Stacking channel TRANS\n"
     ]
    },
    {
     "name": "stderr",
     "output_type": "stream",
     "text": [
      " 86%|████████▌ | 90/105 [15:33<02:24,  9.63s/it]"
     ]
    },
    {
     "name": "stdout",
     "output_type": "stream",
     "text": [
      "Processing well_dir: G2-2\n",
      "Stacking channel 405\n",
      "Stacking channel 488\n",
      "Stacking channel 555\n",
      "Stacking channel 640\n",
      "Stacking channel TRANS\n"
     ]
    },
    {
     "name": "stderr",
     "output_type": "stream",
     "text": [
      " 87%|████████▋ | 91/105 [15:38<01:55,  8.26s/it]"
     ]
    },
    {
     "name": "stdout",
     "output_type": "stream",
     "text": [
      "Processing well_dir: G3-1\n",
      "Stacking channel 405\n",
      "Stacking channel 488\n",
      "Stacking channel 555\n",
      "Stacking channel 640\n",
      "Stacking channel TRANS\n"
     ]
    },
    {
     "name": "stderr",
     "output_type": "stream",
     "text": [
      " 88%|████████▊ | 92/105 [15:53<02:13, 10.29s/it]"
     ]
    },
    {
     "name": "stdout",
     "output_type": "stream",
     "text": [
      "Processing well_dir: G3-2\n",
      "Stacking channel 405\n",
      "Stacking channel 488\n",
      "Stacking channel 555\n",
      "Stacking channel 640\n",
      "Stacking channel TRANS\n"
     ]
    },
    {
     "name": "stderr",
     "output_type": "stream",
     "text": [
      " 89%|████████▊ | 93/105 [16:06<02:12, 11.07s/it]"
     ]
    },
    {
     "name": "stdout",
     "output_type": "stream",
     "text": [
      "Processing well_dir: G4-1\n",
      "Stacking channel 405\n",
      "Stacking channel 488\n",
      "Stacking channel 555\n",
      "Stacking channel 640\n",
      "Stacking channel TRANS\n"
     ]
    },
    {
     "name": "stderr",
     "output_type": "stream",
     "text": [
      " 90%|████████▉ | 94/105 [16:14<01:53, 10.34s/it]"
     ]
    },
    {
     "name": "stdout",
     "output_type": "stream",
     "text": [
      "Processing well_dir: G4-2\n",
      "Stacking channel 405\n",
      "Stacking channel 488\n",
      "Stacking channel 555\n",
      "Stacking channel 640\n",
      "Stacking channel TRANS\n"
     ]
    },
    {
     "name": "stderr",
     "output_type": "stream",
     "text": [
      " 90%|█████████ | 95/105 [16:26<01:47, 10.77s/it]"
     ]
    },
    {
     "name": "stdout",
     "output_type": "stream",
     "text": [
      "Processing well_dir: G5-1\n",
      "Stacking channel 405\n",
      "Stacking channel 488\n",
      "Stacking channel 555\n",
      "Stacking channel 640\n",
      "Stacking channel TRANS\n"
     ]
    },
    {
     "name": "stderr",
     "output_type": "stream",
     "text": [
      " 91%|█████████▏| 96/105 [16:37<01:38, 10.92s/it]"
     ]
    },
    {
     "name": "stdout",
     "output_type": "stream",
     "text": [
      "Processing well_dir: G5-2\n",
      "Stacking channel 405\n",
      "Stacking channel 488\n",
      "Stacking channel 555\n",
      "Stacking channel 640\n",
      "Stacking channel TRANS\n"
     ]
    },
    {
     "name": "stderr",
     "output_type": "stream",
     "text": [
      " 92%|█████████▏| 97/105 [16:48<01:26, 10.87s/it]"
     ]
    },
    {
     "name": "stdout",
     "output_type": "stream",
     "text": [
      "Processing well_dir: G6-1\n",
      "Stacking channel 405\n",
      "Stacking channel 488\n",
      "Stacking channel 555\n",
      "Stacking channel 640\n",
      "Stacking channel TRANS\n"
     ]
    },
    {
     "name": "stderr",
     "output_type": "stream",
     "text": [
      " 93%|█████████▎| 98/105 [16:55<01:07,  9.64s/it]"
     ]
    },
    {
     "name": "stdout",
     "output_type": "stream",
     "text": [
      "Processing well_dir: G6-2\n",
      "Stacking channel 405\n",
      "Stacking channel 488\n",
      "Stacking channel 555\n",
      "Stacking channel 640\n",
      "Stacking channel TRANS\n"
     ]
    },
    {
     "name": "stderr",
     "output_type": "stream",
     "text": [
      " 94%|█████████▍| 99/105 [17:03<00:55,  9.28s/it]"
     ]
    },
    {
     "name": "stdout",
     "output_type": "stream",
     "text": [
      "Processing well_dir: G7-1\n",
      "Stacking channel 405\n",
      "Stacking channel 488\n",
      "Stacking channel 555\n",
      "Stacking channel 640\n",
      "Stacking channel TRANS\n"
     ]
    },
    {
     "name": "stderr",
     "output_type": "stream",
     "text": [
      " 95%|█████████▌| 100/105 [17:12<00:45,  9.16s/it]"
     ]
    },
    {
     "name": "stdout",
     "output_type": "stream",
     "text": [
      "Processing well_dir: G7-2\n",
      "Stacking channel 405\n",
      "Stacking channel 488\n",
      "Stacking channel 555\n",
      "Stacking channel 640\n",
      "Stacking channel TRANS\n"
     ]
    },
    {
     "name": "stderr",
     "output_type": "stream",
     "text": [
      " 96%|█████████▌| 101/105 [17:18<00:32,  8.04s/it]"
     ]
    },
    {
     "name": "stdout",
     "output_type": "stream",
     "text": [
      "Processing well_dir: G8-1\n",
      "Stacking channel 405\n",
      "Stacking channel 488\n",
      "Stacking channel 555\n",
      "Stacking channel 640\n",
      "Stacking channel TRANS\n"
     ]
    },
    {
     "name": "stderr",
     "output_type": "stream",
     "text": [
      " 97%|█████████▋| 102/105 [17:31<00:29,  9.73s/it]"
     ]
    },
    {
     "name": "stdout",
     "output_type": "stream",
     "text": [
      "Processing well_dir: G8-2\n",
      "Stacking channel 405\n",
      "Stacking channel 488\n",
      "Stacking channel 555\n",
      "Stacking channel 640\n",
      "Stacking channel TRANS\n"
     ]
    },
    {
     "name": "stderr",
     "output_type": "stream",
     "text": [
      " 98%|█████████▊| 103/105 [17:42<00:20, 10.05s/it]"
     ]
    },
    {
     "name": "stdout",
     "output_type": "stream",
     "text": [
      "Processing well_dir: G9-1\n",
      "Stacking channel 405\n",
      "Stacking channel 488\n",
      "Stacking channel 555\n",
      "Stacking channel 640\n",
      "Stacking channel TRANS\n"
     ]
    },
    {
     "name": "stderr",
     "output_type": "stream",
     "text": [
      " 99%|█████████▉| 104/105 [17:58<00:11, 11.88s/it]"
     ]
    },
    {
     "name": "stdout",
     "output_type": "stream",
     "text": [
      "Processing well_dir: G9-2\n",
      "Stacking channel 405\n",
      "Stacking channel 488\n",
      "Stacking channel 555\n",
      "Stacking channel 640\n",
      "Stacking channel TRANS\n"
     ]
    },
    {
     "name": "stderr",
     "output_type": "stream",
     "text": [
      "100%|██████████| 105/105 [18:18<00:00, 10.46s/it]\n"
     ]
    }
   ],
   "source": [
    "for well_dir in tqdm.tqdm(input_dirs):\n",
    "    print(f\"Processing well_dir: {well_dir.stem}\")  # Debug\n",
    "    channel_images = {channel_name: {\"filepath\": []} for channel_name in channel_names}\n",
    "    \n",
    "    # Get all the images in the directory\n",
    "    for filename in well_dir.glob(\"*\"):\n",
    "        if filename.suffix in image_extensions:\n",
    "            for channel_name in channel_names:\n",
    "                if channel_name in filename.name:\n",
    "                    channel_images[channel_name][\"filepath\"].append(filename)\n",
    "                    break\n",
    "\n",
    "    # Iterate through each channel\n",
    "    for channel_name in channel_names:\n",
    "        # Sort and check filepaths\n",
    "        channel_images[channel_name][\"filepath\"] = sorted(\n",
    "            channel_images[channel_name][\"filepath\"]\n",
    "        )\n",
    "        if not channel_images[channel_name][\"filepath\"]:\n",
    "            print(f\"No files found for channel {channel_name} in {well_dir}. Skipping...\")\n",
    "            continue\n",
    "\n",
    "        # Confirm before accessing\n",
    "        print(f\"Stacking channel {channel_name}\")  # Debug\n",
    "    \n",
    "        # read the image files from the sorted file paths and stack them into a numpy array\n",
    "        images_to_stack = np.array(\n",
    "            [\n",
    "                tiff.imread(filepath)\n",
    "                for filepath in channel_images[channel_name][\"filepath\"]\n",
    "            ]\n",
    "        )\n",
    "        filepath = channel_images[channel_name][\"filepath\"][0]\n",
    "        well = str(filepath.parent).split(\"/\")[-1]\n",
    "        output_path = output_z_stack_dir / f\"{well}\" / f\"{well}_{channel_name}.tif\"\n",
    "        output_path.parent.mkdir(exist_ok=True, parents=True)\n",
    "        tiff.imwrite(output_path, images_to_stack)"
   ]
  }
 ],
 "metadata": {
  "kernelspec": {
   "display_name": "gff_preprocessing_env",
   "language": "python",
   "name": "python3"
  },
  "language_info": {
   "codemirror_mode": {
    "name": "ipython",
    "version": 3
   },
   "file_extension": ".py",
   "mimetype": "text/x-python",
   "name": "python",
   "nbconvert_exporter": "python",
   "pygments_lexer": "ipython3",
   "version": "3.10.15"
  }
 },
 "nbformat": 4,
 "nbformat_minor": 2
}
