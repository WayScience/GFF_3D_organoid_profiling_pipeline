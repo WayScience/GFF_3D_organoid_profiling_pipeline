{
    "cells": [
        {
            "cell_type": "markdown",
            "metadata": {},
            "source": [
                "This notebook creats z-stack images from the individual z-slice images for each FOV of each well."
            ]
        },
        {
            "cell_type": "code",
            "execution_count": 1,
            "metadata": {},
            "outputs": [],
            "source": [
                "import pathlib\n",
                "\n",
                "import numpy as np\n",
                "import tifffile as tiff\n",
                "import tqdm"
            ]
        },
        {
            "cell_type": "code",
            "execution_count": 2,
            "metadata": {},
            "outputs": [],
            "source": [
                "input_dir = pathlib.Path(\"../../data/raw_images\").resolve(strict=True)\n",
                "\n",
                "output_z_stack_dir = pathlib.Path(\"../../data/z-stack_images\").resolve()\n",
                "output_z_stack_dir.mkdir(exist_ok=True, parents=True)"
            ]
        },
        {
            "cell_type": "code",
            "execution_count": 3,
            "metadata": {},
            "outputs": [
                {
                    "name": "stdout",
                    "output_type": "stream",
                    "text": [
                        "There are 105 directories in the input directory.\n"
                    ]
                }
            ],
            "source": [
                "# get a list of all dirs in the input dir\n",
                "input_dirs = [x for x in input_dir.iterdir() if x.is_dir()]\n",
                "print(f\"There are {len(input_dirs)} directories in the input directory.\")"
            ]
        },
        {
            "cell_type": "code",
            "execution_count": 4,
            "metadata": {},
            "outputs": [
                {
                    "data": {
                        "text/plain": [
                            "{'405': {'filename': [], 'filepath': []},\n",
                            " '488': {'filename': [], 'filepath': []},\n",
                            " '555': {'filename': [], 'filepath': []},\n",
                            " '640': {'filename': [], 'filepath': []},\n",
                            " 'TRANS': {'filename': [], 'filepath': []}}"
                        ]
                    },
                    "execution_count": 4,
                    "metadata": {},
                    "output_type": "execute_result"
                }
            ],
            "source": [
                "image_extensions = {\".tif\", \".tiff\"}\n",
                "channel_names = [\"405\", \"488\", \"555\", \"640\", \"TRANS\"]\n",
                "# make a dictionary that contains a list for each channel name\n",
                "channel_images = {\n",
                "    channel_name: {\"filename\": [], \"filepath\": []} for channel_name in channel_names\n",
                "}\n",
                "channel_images"
            ]
        },
        {
            "cell_type": "code",
            "execution_count": 5,
            "metadata": {},
            "outputs": [
                {
                    "name": "stderr",
                    "output_type": "stream",
                    "text": [
                        " 10%|\u2589         | 10/105 [00:15<02:41,  1.70s/it]/home/lippincm/miniforge3/envs/gff_preprocessing_env/lib/python3.10/site-packages/tifffile/tifffile.py:2369: UserWarning: <tifffile.TiffWriter '405.tif'> writing zero-size array to nonconformant TIFF\n",
                        "  warnings.warn(\n",
                        "/home/lippincm/miniforge3/envs/gff_preprocessing_env/lib/python3.10/site-packages/tifffile/tifffile.py:2369: UserWarning: <tifffile.TiffWriter '488.tif'> writing zero-size array to nonconformant TIFF\n",
                        "  warnings.warn(\n",
                        "/home/lippincm/miniforge3/envs/gff_preprocessing_env/lib/python3.10/site-packages/tifffile/tifffile.py:2369: UserWarning: <tifffile.TiffWriter '555.tif'> writing zero-size array to nonconformant TIFF\n",
                        "  warnings.warn(\n",
                        "/home/lippincm/miniforge3/envs/gff_preprocessing_env/lib/python3.10/site-packages/tifffile/tifffile.py:2369: UserWarning: <tifffile.TiffWriter '640.tif'> writing zero-size array to nonconformant TIFF\n",
                        "  warnings.warn(\n",
                        "/home/lippincm/miniforge3/envs/gff_preprocessing_env/lib/python3.10/site-packages/tifffile/tifffile.py:2369: UserWarning: <tifffile.TiffWriter 'TRANS.tif'> writing zero-size array to nonconformant TIFF\n",
                        "  warnings.warn(\n",
                        "100%|\u2588\u2588\u2588\u2588\u2588\u2588\u2588\u2588\u2588\u2588| 105/105 [03:09<00:00,  1.80s/it]\n"
                    ]
                }
            ],
            "source": [
                "for well_dir in tqdm.tqdm(input_dirs):\n",
                "    channel_images = {\n",
                "        channel_name: {\"filename\": [], \"filepath\": []} for channel_name in channel_names\n",
                "    }\n",
                "    # get all the images in the directory\n",
                "    images_names = []\n",
                "    for filename in well_dir.glob(\"*\"):\n",
                "        if filename.suffix in image_extensions:\n",
                "            for channel_name in channel_names:\n",
                "                if channel_name in filename.name:\n",
                "                    channel_images[channel_name][\"filename\"].append(filename.name)\n",
                "                    channel_images[channel_name][\"filepath\"].append(filename)\n",
                "                    break\n",
                "\n",
                "    # sort the lists of filenames and filepaths\n",
                "    for channel_name in channel_names:\n",
                "        channel_images[channel_name][\"filename\"] = sorted(\n",
                "            channel_images[channel_name][\"filename\"]\n",
                "        )\n",
                "        channel_images[channel_name][\"filepath\"] = sorted(\n",
                "            channel_images[channel_name][\"filepath\"]\n",
                "        )\n",
                "        images_to_stack = []\n",
                "        for filepath in channel_images[channel_name][\"filepath\"]:\n",
                "            images_to_stack.append(tiff.imread(filepath))\n",
                "        well = str(filepath.parent).split(\"/\")[-1]\n",
                "        images_to_stack = np.array(images_to_stack)\n",
                "        output_path = output_z_stack_dir / f\"{well}\" / f\"{channel_name}.tif\"\n",
                "        output_path.parent.mkdir(exist_ok=True, parents=True)\n",
                "        tiff.imwrite(output_path, images_to_stack)"
            ]
        }
    ],
    "metadata": {
        "kernelspec": {
            "display_name": "gff_preprocessing_env",
            "language": "python",
            "name": "python3"
        },
        "language_info": {
            "codemirror_mode": {
                "name": "ipython",
                "version": 3
            },
            "file_extension": ".py",
            "mimetype": "text/x-python",
            "name": "python",
            "nbconvert_exporter": "python",
            "pygments_lexer": "ipython3",
            "version": "3.10.15"
        }
    },
    "nbformat": 4,
    "nbformat_minor": 2
}
