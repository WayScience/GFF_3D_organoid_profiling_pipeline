{
    "cells": [
        {
            "cell_type": "markdown",
            "id": "38591bb0",
            "metadata": {
                "papermill": {
                    "duration": 0.002539,
                    "end_time": "2024-12-24T21:59:32.892926",
                    "exception": false,
                    "start_time": "2024-12-24T21:59:32.890387",
                    "status": "completed"
                },
                "tags": []
            },
            "source": [
                "# An attempt at an elegant solution to the 2D -> 3D object relation problem.\n",
                "I will use graph theory to solve this problem. \n",
                "The idea is to create a graph where each node represents a 2D object and each edge represents a potential relation between two objects across z or an absolute relation between two objects in the same z.\n",
                "These edges will be weighted based on their z distance.\n",
                "The problem then becomes a shortest path problem where we need to find the shortest path between the start and end nodes.\n",
                "An issue that will arise is figuring out how many nodes might exist in a given path. This will vary and will be a challenge to solve.\n",
                "Some nodes will not start until a certain z level and some nodes will end at a certain z level.\n",
                "\n",
                "### To do this we must make the following assumptions:\n",
                "1. Nodes in the same z level are connected to each other, but will not be used in the shortest path calculation - these are separate objects.\n",
                "2. The variablility in the distance between the X-Y coordinates across z-slices for the same 3D object is minimal.\n",
                "    - This will be a learned or assumed value - probably initialized as apriori knowledge.\n",
                "3. The distance between the X-Y coordinates across z-slices for different 3D objects is significant.\n",
                "4. Given the assumption of 1 and 2, we do not need to calculate the shortes path between all nodes, only the nodes that are within a certain distance of each other in the X-Y plane across z-slices.\n",
                "5. The total number of objects in a 2D slice cannot be greater than the total number of objects in the 3D object.\n",
                "6. The largest number of objects across all 2D slices will not necessarily be the same as the number of objects in the 3D object.\n",
                "7. The node path has to be continuous and cannot skip nodes."
            ]
        },
        {
            "cell_type": "markdown",
            "id": "e6d8095a",
            "metadata": {
                "papermill": {
                    "duration": 0.001641,
                    "end_time": "2024-12-24T21:59:32.896576",
                    "exception": false,
                    "start_time": "2024-12-24T21:59:32.894935",
                    "status": "completed"
                },
                "tags": []
            },
            "source": [
                "## Imports"
            ]
        },
        {
            "cell_type": "code",
            "execution_count": null,
            "id": "36e79f2f",
            "metadata": {
                "execution": {
                    "iopub.execute_input": "2024-12-24T21:59:32.900560Z",
                    "iopub.status.busy": "2024-12-24T21:59:32.900397Z",
                    "iopub.status.idle": "2024-12-24T21:59:35.986533Z",
                    "shell.execute_reply": "2024-12-24T21:59:35.986131Z"
                },
                "papermill": {
                    "duration": 3.089228,
                    "end_time": "2024-12-24T21:59:35.987496",
                    "exception": false,
                    "start_time": "2024-12-24T21:59:32.898268",
                    "status": "completed"
                },
                "tags": []
            },
            "outputs": [],
            "source": [
                "import argparse\n",
                "import pathlib\n",
                "import sys\n",
                "\n",
                "import matplotlib.pyplot as plt\n",
                "import numpy as np\n",
                "import pandas as pd\n",
                "import skimage.io as io\n",
                "import tifffile\n",
                "from nviz.image import image_set_to_arrays\n",
                "from nviz.image_meta import extract_z_slice_number_from_filename, generate_ome_xml\n",
                "from nviz.view import view_ometiff_with_napari\n",
                "\n",
                "sys.path.append(\"../../utils\")\n",
                "from segmentation_decoupling import euclidian_2D_distance\n",
                "\n",
                "# check if in a jupyter notebook\n",
                "try:\n",
                "    cfg = get_ipython().config\n",
                "    in_notebook = True\n",
                "except NameError:\n",
                "    in_notebook = False"
            ]
        },
        {
            "cell_type": "code",
            "execution_count": null,
            "id": "2b5c9c9b",
            "metadata": {
                "execution": {
                    "iopub.execute_input": "2024-12-24T21:59:35.993897Z",
                    "iopub.status.busy": "2024-12-24T21:59:35.993628Z",
                    "iopub.status.idle": "2024-12-24T21:59:35.998696Z",
                    "shell.execute_reply": "2024-12-24T21:59:35.998382Z"
                },
                "papermill": {
                    "duration": 0.008793,
                    "end_time": "2024-12-24T21:59:35.999282",
                    "exception": false,
                    "start_time": "2024-12-24T21:59:35.990489",
                    "status": "completed"
                },
                "tags": []
            },
            "outputs": [],
            "source": [
                "if not in_notebook:\n",
                "    print(\"Running as script\")\n",
                "    # set up arg parser\n",
                "    parser = argparse.ArgumentParser(description=\"Segment the nuclei of a tiff image\")\n",
                "\n",
                "    parser.add_argument(\n",
                "        \"--input_dir\",\n",
                "        type=str,\n",
                "        help=\"Path to the input directory containing the tiff images\",\n",
                "    )\n",
                "    parser.add_argument(\n",
                "        \"--radius_constraint\",\n",
                "        type=int,\n",
                "        default=10,\n",
                "        help=\"The maximum radius of the x-y vector\",\n",
                "    )\n",
                "    parser.add_argument(\n",
                "        \"--compartment\",\n",
                "        type=str,\n",
                "        default=\"none\",\n",
                "        help=\"The compartment to segment\",\n",
                "    )\n",
                "\n",
                "    args = parser.parse_args()\n",
                "    input_dir = pathlib.Path(args.input_dir).resolve(strict=True)\n",
                "    x_y_vector_radius_max_constaint = args.radius_constraint\n",
                "    compartment = args.compartment\n",
                "else:\n",
                "    print(\"Running in a notebook\")\n",
                "    input_dir = pathlib.Path(\"../processed_data/C4-2/\").resolve(strict=True)\n",
                "\n",
                "    compartment = \"organoid\"\n",
                "\n",
                "if compartment == \"nuclei\":\n",
                "    input_image_dir = pathlib.Path(input_dir / \"nuclei_masks.tiff\").resolve(strict=True)\n",
                "    x_y_vector_radius_max_constaint = 5  # pixels\n",
                "elif compartment == \"cell\":\n",
                "    input_image_dir = pathlib.Path(input_dir / \"cell_masks.tiff\").resolve(strict=True)\n",
                "    x_y_vector_radius_max_constaint = 15  # pixels\n",
                "elif compartment == \"organoid\":\n",
                "    input_image_dir = pathlib.Path(input_dir / \"organoid_masks.tiff\").resolve(\n",
                "        strict=True\n",
                "    )\n",
                "    x_y_vector_radius_max_constaint = 50  # pixels\n",
                "else:\n",
                "    raise ValueError(\n",
                "        \"Invalid compartment, please choose either 'nuclei', 'cell', or 'organoid'\"\n",
                "    )\n",
                "\n",
                "output_image_dir = input_image_dir"
            ]
        },
        {
            "cell_type": "code",
            "execution_count": null,
            "id": "a848a1e9",
            "metadata": {},
            "outputs": [],
            "source": [
                "image_dir = \"../../data/NF0014/zstack_images/C4-2/\"\n",
                "label_dir = input_dir\n",
                "output_path = \"output.zarr\"\n",
                "channel_map = {\n",
                "    \"405\": \"Nuclei\",\n",
                "    \"488\": \"Endoplasmic Reticulum\",\n",
                "    \"555\": \"Actin, Golgi, and plasma membrane (AGP)\",\n",
                "    \"640\": \"Mitochondria\",\n",
                "    \"TRANS\": \"Brightfield\",\n",
                "}\n",
                "scaling_values = [1, 0.1, 0.1]"
            ]
        },
        {
            "cell_type": "code",
            "execution_count": null,
            "id": "72ee059a",
            "metadata": {},
            "outputs": [],
            "source": [
                "frame_zstacks = image_set_to_arrays(\n",
                "    image_dir,\n",
                "    label_dir,\n",
                "    channel_map=channel_map,\n",
                ")\n",
                "\n",
                "images_data = []\n",
                "labels_data = []\n",
                "channel_names = []\n",
                "label_names = []\n",
                "\n",
                "\n",
                "for channel, stack in frame_zstacks[\"images\"].items():\n",
                "    dim = len(stack.shape)\n",
                "    images_data.append(stack)\n",
                "    channel_names.append(channel)\n",
                "\n",
                "# Collect label data\n",
                "if label_dir:\n",
                "    for compartment_name, stack in frame_zstacks[\"labels\"].items():\n",
                "        if len(stack.shape) != dim:\n",
                "            if len(stack.shape) == 3:\n",
                "                stack = np.expand_dims(stack, axis=0)\n",
                "        labels_data.append(stack)\n",
                "        label_names.append(f\"{compartment_name} (labels)\")\n",
                "\n",
                "\n",
                "# Stack the images and labels along a new axis for channels\n",
                "images_data = np.stack(images_data, axis=0)\n",
                "if labels_data:\n",
                "    labels_data = np.stack(labels_data, axis=0)\n",
                "    combined_data = np.concatenate((images_data, labels_data), axis=0)\n",
                "    combined_channel_names = channel_names + label_names\n",
                "else:\n",
                "    combined_data = images_data\n",
                "    combined_channel_names = channel_names\n",
                "# Generate OME-XML metadata\n",
                "ome_metadata = {\n",
                "    \"SizeC\": combined_data.shape[0],\n",
                "    \"SizeZ\": combined_data.shape[1],\n",
                "    \"SizeY\": combined_data.shape[2],\n",
                "    \"SizeX\": combined_data.shape[3],\n",
                "    \"PhysicalSizeX\": scaling_values[2],\n",
                "    \"PhysicalSizeY\": scaling_values[1],\n",
                "    \"PhysicalSizeZ\": scaling_values[0],\n",
                "    # note: we use 7-bit ascii compatible characters below\n",
                "    # due to tifffile limitations\n",
                "    \"PhysicalSizeXUnit\": \"um\",\n",
                "    \"PhysicalSizeYUnit\": \"um\",\n",
                "    \"PhysicalSizeZUnit\": \"um\",\n",
                "    \"Channel\": [{\"Name\": name} for name in combined_channel_names],\n",
                "}\n",
                "ome_xml = generate_ome_xml(ome_metadata)\n",
                "import tifffile as tiff\n",
                "\n",
                "# Write the combined data to a single OME-TIFF\n",
                "with tiff.TiffWriter(output_path, bigtiff=True) as tif:\n",
                "    tif.write(combined_data, description=ome_xml, photometric=\"minisblack\")"
            ]
        },
        {
            "cell_type": "code",
            "execution_count": null,
            "id": "3e25d28a",
            "metadata": {},
            "outputs": [],
            "source": [
                "# import shutil\n",
                "# shutil.rmtree(output_path, ignore_errors=True)\n",
                "# nviz.image.tiff_to_ometiff(\n",
                "#     image_dir=image_dir,\n",
                "#     label_dir=label_dir,\n",
                "#     output_path=output_path,\n",
                "#     channel_map=channel_map,\n",
                "#     scaling_values=scaling_values,\n",
                "#     ignore=[],\n",
                "# )"
            ]
        },
        {
            "cell_type": "code",
            "execution_count": null,
            "id": "d00fec18",
            "metadata": {},
            "outputs": [],
            "source": [
                "view_ometiff_with_napari(\n",
                "    ometiff_path=output_path,\n",
                "    scaling_values=scaling_values,\n",
                "    headless=False,\n",
                ")"
            ]
        },
        {
            "cell_type": "code",
            "execution_count": null,
            "id": "00387f01",
            "metadata": {},
            "outputs": [],
            "source": [
                "import vispy\n",
                "\n",
                "vispy.use(\"pyqt5\")\n",
                "print(vispy.sys_info())"
            ]
        },
        {
            "cell_type": "code",
            "execution_count": null,
            "id": "d1b44c8a",
            "metadata": {},
            "outputs": [],
            "source": [
                "import vispy\n",
                "\n",
                "vispy.use(\"pyside6\")\n",
                "print(vispy.sys_info())"
            ]
        }
    ],
    "metadata": {
        "kernelspec": {
            "display_name": "viz_env",
            "language": "python",
            "name": "python3"
        },
        "language_info": {
            "codemirror_mode": {
                "name": "ipython",
                "version": 3
            },
            "file_extension": ".py",
            "mimetype": "text/x-python",
            "name": "python",
            "nbconvert_exporter": "python",
            "pygments_lexer": "ipython3",
            "version": "3.11.11"
        },
        "papermill": {
            "default_parameters": {},
            "duration": 17.77613,
            "end_time": "2024-12-24T21:59:50.011767",
            "environment_variables": {},
            "exception": null,
            "input_path": "3.reconstruct_3D_masks.ipynb",
            "output_path": "3.reconstruct_3D_masks.ipynb",
            "parameters": {},
            "start_time": "2024-12-24T21:59:32.235637",
            "version": "2.6.0"
        }
    },
    "nbformat": 4,
    "nbformat_minor": 5
}
