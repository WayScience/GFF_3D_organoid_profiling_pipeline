{
    "cells": [
        {
            "cell_type": "code",
            "execution_count": 1,
            "id": "1352e2be",
            "metadata": {
                "execution": {
                    "iopub.execute_input": "2024-12-11T21:35:18.513106Z",
                    "iopub.status.busy": "2024-12-11T21:35:18.512850Z",
                    "iopub.status.idle": "2024-12-11T21:35:18.676693Z",
                    "shell.execute_reply": "2024-12-11T21:35:18.676307Z"
                },
                "papermill": {
                    "duration": 0.167064,
                    "end_time": "2024-12-11T21:35:18.677677",
                    "exception": false,
                    "start_time": "2024-12-11T21:35:18.510613",
                    "status": "completed"
                },
                "tags": []
            },
            "outputs": [],
            "source": [
                "import argparse\n",
                "import pathlib\n",
                "\n",
                "import imageio\n",
                "import numpy as np\n",
                "import skimage\n",
                "import skimage.io as io\n",
                "\n",
                "# check if in a jupyter notebook\n",
                "try:\n",
                "    cfg = get_ipython().config\n",
                "    in_notebook = True\n",
                "except NameError:\n",
                "    in_notebook = False"
            ]
        },
        {
            "cell_type": "code",
            "execution_count": null,
            "id": "39d89d93",
            "metadata": {
                "execution": {
                    "iopub.execute_input": "2024-12-11T21:35:18.681461Z",
                    "iopub.status.busy": "2024-12-11T21:35:18.681254Z",
                    "iopub.status.idle": "2024-12-11T21:35:18.685398Z",
                    "shell.execute_reply": "2024-12-11T21:35:18.685062Z"
                },
                "papermill": {
                    "duration": 0.006628,
                    "end_time": "2024-12-11T21:35:18.686027",
                    "exception": false,
                    "start_time": "2024-12-11T21:35:18.679399",
                    "status": "completed"
                },
                "tags": []
            },
            "outputs": [
                {
                    "name": "stdout",
                    "output_type": "stream",
                    "text": [
                        "Running in a notebook\n"
                    ]
                }
            ],
            "source": [
                "if not in_notebook:\n",
                "    print(\"Running as script\")\n",
                "    # set up arg parser\n",
                "    parser = argparse.ArgumentParser(description=\"Segment the nuclei of a tiff image\")\n",
                "\n",
                "    parser.add_argument(\n",
                "        \"--input_dir\",\n",
                "        type=str,\n",
                "        help=\"Path to the input directory containing the tiff images\",\n",
                "    )\n",
                "\n",
                "    args = parser.parse_args()\n",
                "    input_dir = pathlib.Path(args.input_dir).resolve(strict=True)\n",
                "    mask_input_dir = pathlib.Path(f\"../processed_data/{input_dir.stem}\").resolve(\n",
                "        strict=True\n",
                "    )\n",
                "else:\n",
                "    print(\"Running in a notebook\")\n",
                "    input_dir = pathlib.Path(\"../../data/z-stack_images/raw_z_input/\").resolve(\n",
                "        strict=True\n",
                "    )\n",
                "    mask_input_dir = pathlib.Path(f\"../processed_data/{input_dir.stem}\").resolve(\n",
                "        strict=True\n",
                "    )\n",
                "\n",
                "\n",
                "output_path = pathlib.Path(f\"../processed_data/{input_dir.stem}/gifs/\").resolve()\n",
                "output_path.mkdir(parents=True, exist_ok=True)\n",
                "img_files = sorted(input_dir.glob(\"*\"))\n",
                "mask_files = sorted(mask_input_dir.glob(\"*\"))"
            ]
        },
        {
            "cell_type": "markdown",
            "id": "5313a05c",
            "metadata": {
                "papermill": {
                    "duration": 0.001341,
                    "end_time": "2024-12-11T21:35:18.688580",
                    "exception": false,
                    "start_time": "2024-12-11T21:35:18.687239",
                    "status": "completed"
                },
                "tags": []
            },
            "source": [
                "## Cells"
            ]
        },
        {
            "cell_type": "code",
            "execution_count": 3,
            "id": "44bbec23",
            "metadata": {
                "execution": {
                    "iopub.execute_input": "2024-12-11T21:35:18.692073Z",
                    "iopub.status.busy": "2024-12-11T21:35:18.691901Z",
                    "iopub.status.idle": "2024-12-11T21:35:18.904200Z",
                    "shell.execute_reply": "2024-12-11T21:35:18.903769Z"
                },
                "papermill": {
                    "duration": 0.215148,
                    "end_time": "2024-12-11T21:35:18.905168",
                    "exception": false,
                    "start_time": "2024-12-11T21:35:18.690020",
                    "status": "completed"
                },
                "tags": []
            },
            "outputs": [],
            "source": [
                "for f in img_files:\n",
                "    if \"555\" in str(f):\n",
                "        cell_img_path = f\n",
                "for f in mask_files:\n",
                "    if \"cell\" in str(f):\n",
                "        cell_mask_path = f\n",
                "\n",
                "# read in the cell masks\n",
                "cell_img = io.imread(cell_img_path)\n",
                "cell_mask = io.imread(cell_mask_path)\n",
                "\n",
                "# scale the images to unit8\n",
                "cell_img = (cell_img / 255).astype(\"uint8\") * 8\n",
                "cell_mask = (cell_mask).astype(\"uint8\") * 16"
            ]
        },
        {
            "cell_type": "markdown",
            "id": "155e4d6a",
            "metadata": {
                "papermill": {
                    "duration": 0.001349,
                    "end_time": "2024-12-11T21:35:18.908170",
                    "exception": false,
                    "start_time": "2024-12-11T21:35:18.906821",
                    "status": "completed"
                },
                "tags": []
            },
            "source": [
                "### Cell image visualization"
            ]
        },
        {
            "cell_type": "code",
            "execution_count": 4,
            "id": "05c5a238",
            "metadata": {
                "execution": {
                    "iopub.execute_input": "2024-12-11T21:35:18.911707Z",
                    "iopub.status.busy": "2024-12-11T21:35:18.911550Z",
                    "iopub.status.idle": "2024-12-11T21:35:21.258440Z",
                    "shell.execute_reply": "2024-12-11T21:35:21.258045Z"
                },
                "papermill": {
                    "duration": 2.349831,
                    "end_time": "2024-12-11T21:35:21.259384",
                    "exception": false,
                    "start_time": "2024-12-11T21:35:18.909553",
                    "status": "completed"
                },
                "tags": []
            },
            "outputs": [],
            "source": [
                "frames = [cell_img[i] for i in range(cell_img.shape[0])]\n",
                "\n",
                "# Write the frames to a GIF\n",
                "output_file_path = pathlib.Path(output_path / \"cell_img_output.gif\")\n",
                "imageio.mimsave(output_file_path, frames, duration=0.1, loop=10)"
            ]
        },
        {
            "cell_type": "markdown",
            "id": "f75a82da",
            "metadata": {
                "papermill": {
                    "duration": 0.001367,
                    "end_time": "2024-12-11T21:35:21.262342",
                    "exception": false,
                    "start_time": "2024-12-11T21:35:21.260975",
                    "status": "completed"
                },
                "tags": []
            },
            "source": [
                "### Cell segmentation visualization"
            ]
        },
        {
            "cell_type": "code",
            "execution_count": 5,
            "id": "97325f14",
            "metadata": {
                "execution": {
                    "iopub.execute_input": "2024-12-11T21:35:21.265811Z",
                    "iopub.status.busy": "2024-12-11T21:35:21.265642Z",
                    "iopub.status.idle": "2024-12-11T21:35:23.139330Z",
                    "shell.execute_reply": "2024-12-11T21:35:23.138959Z"
                },
                "papermill": {
                    "duration": 1.876505,
                    "end_time": "2024-12-11T21:35:23.140245",
                    "exception": false,
                    "start_time": "2024-12-11T21:35:21.263740",
                    "status": "completed"
                },
                "tags": []
            },
            "outputs": [],
            "source": [
                "frames = [cell_mask[i] for i in range(cell_mask.shape[0])]\n",
                "\n",
                "# Write the frames to a GIF\n",
                "output_file_path = pathlib.Path(output_path / \"cell_mask_output.gif\")\n",
                "imageio.mimsave(\n",
                "    output_file_path, frames, duration=0.1, loop=10\n",
                ")  # duration is the time between frames in seconds"
            ]
        }
    ],
    "metadata": {
        "kernelspec": {
            "display_name": "GFF_cellpose",
            "language": "python",
            "name": "python3"
        },
        "language_info": {
            "codemirror_mode": {
                "name": "ipython",
                "version": 3
            },
            "file_extension": ".py",
            "mimetype": "text/x-python",
            "name": "python",
            "nbconvert_exporter": "python",
            "pygments_lexer": "ipython3",
            "version": "3.9.21"
        },
        "papermill": {
            "default_parameters": {},
            "duration": 5.403132,
            "end_time": "2024-12-11T21:35:23.255835",
            "environment_variables": {},
            "exception": null,
            "input_path": "3.make_cell_segmentation_videos.ipynb",
            "output_path": "3.make_cell_segmentation_videos.ipynb",
            "parameters": {},
            "start_time": "2024-12-11T21:35:17.852703",
            "version": "2.6.0"
        }
    },
    "nbformat": 4,
    "nbformat_minor": 5
}
