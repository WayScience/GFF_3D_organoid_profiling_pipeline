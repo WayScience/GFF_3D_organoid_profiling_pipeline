{
    "cells": [
        {
            "cell_type": "code",
            "execution_count": 1,
            "id": "1352e2be",
            "metadata": {
                "execution": {
                    "iopub.execute_input": "2024-12-11T21:35:18.513106Z",
                    "iopub.status.busy": "2024-12-11T21:35:18.512850Z",
                    "iopub.status.idle": "2024-12-11T21:35:18.676693Z",
                    "shell.execute_reply": "2024-12-11T21:35:18.676307Z"
                },
                "papermill": {
                    "duration": 0.167064,
                    "end_time": "2024-12-11T21:35:18.677677",
                    "exception": false,
                    "start_time": "2024-12-11T21:35:18.510613",
                    "status": "completed"
                },
                "tags": []
            },
            "outputs": [],
            "source": [
                "import argparse\n",
                "import pathlib\n",
                "\n",
                "import imageio\n",
                "import numpy as np\n",
                "import skimage\n",
                "import skimage.io as io\n",
                "import tifffile\n",
                "\n",
                "# check if in a jupyter notebook\n",
                "try:\n",
                "    cfg = get_ipython().config\n",
                "    in_notebook = True\n",
                "except NameError:\n",
                "    in_notebook = False"
            ]
        },
        {
            "cell_type": "code",
            "execution_count": 2,
            "id": "39d89d93",
            "metadata": {
                "execution": {
                    "iopub.execute_input": "2024-12-11T21:35:18.681461Z",
                    "iopub.status.busy": "2024-12-11T21:35:18.681254Z",
                    "iopub.status.idle": "2024-12-11T21:35:18.685398Z",
                    "shell.execute_reply": "2024-12-11T21:35:18.685062Z"
                },
                "papermill": {
                    "duration": 0.006628,
                    "end_time": "2024-12-11T21:35:18.686027",
                    "exception": false,
                    "start_time": "2024-12-11T21:35:18.679399",
                    "status": "completed"
                },
                "tags": []
            },
            "outputs": [
                {
                    "name": "stdout",
                    "output_type": "stream",
                    "text": [
                        "Running in a notebook\n"
                    ]
                }
            ],
            "source": [
                "if not in_notebook:\n",
                "    print(\"Running as script\")\n",
                "    # set up arg parser\n",
                "    parser = argparse.ArgumentParser(description=\"Segment the nuclei of a tiff image\")\n",
                "\n",
                "    parser.add_argument(\n",
                "        \"--input_dir\",\n",
                "        type=str,\n",
                "        help=\"Path to the input directory containing the tiff images\",\n",
                "    )\n",
                "    parser.add_argument(\n",
                "        \"--compartment\",\n",
                "        type=str,\n",
                "        help=\"The compartment to segment the nuclei from\",\n",
                "        choices=[\"nuclei\", \"cell\", \"cytoplasm\", \"organoid\", \"raw\"],\n",
                "    )\n",
                "\n",
                "    args = parser.parse_args()\n",
                "    input_dir = pathlib.Path(args.input_dir).resolve(strict=True)\n",
                "    compartment = args.compartment\n",
                "    mask_input_dir = pathlib.Path(f\"../processed_data/{input_dir.stem}\").resolve(\n",
                "        strict=True\n",
                "    )\n",
                "else:\n",
                "    print(\"Running in a notebook\")\n",
                "    input_dir = pathlib.Path(\"../../data/NF0014/zstack_images/C4-2/\").resolve(\n",
                "        strict=True\n",
                "    )\n",
                "    compartment = \"raw\"\n",
                "    mask_input_dir = pathlib.Path(f\"../processed_data/{input_dir.stem}\").resolve(\n",
                "        strict=True\n",
                "    )\n",
                "\n",
                "\n",
                "output_path = pathlib.Path(f\"../processed_data/{input_dir.stem}/gifs/\").resolve()\n",
                "output_path.mkdir(parents=True, exist_ok=True)\n",
                "\n",
                "img_files = sorted(input_dir.glob(\"*\"))\n",
                "mask_files = sorted(mask_input_dir.glob(\"*\"))"
            ]
        },
        {
            "cell_type": "markdown",
            "id": "5313a05c",
            "metadata": {
                "papermill": {
                    "duration": 0.001341,
                    "end_time": "2024-12-11T21:35:18.688580",
                    "exception": false,
                    "start_time": "2024-12-11T21:35:18.687239",
                    "status": "completed"
                },
                "tags": []
            },
            "source": [
                "## Load images "
            ]
        },
        {
            "cell_type": "code",
            "execution_count": 3,
            "id": "44bbec23",
            "metadata": {
                "execution": {
                    "iopub.execute_input": "2024-12-11T21:35:18.692073Z",
                    "iopub.status.busy": "2024-12-11T21:35:18.691901Z",
                    "iopub.status.idle": "2024-12-11T21:35:18.904200Z",
                    "shell.execute_reply": "2024-12-11T21:35:18.903769Z"
                },
                "papermill": {
                    "duration": 0.215148,
                    "end_time": "2024-12-11T21:35:18.905168",
                    "exception": false,
                    "start_time": "2024-12-11T21:35:18.690020",
                    "status": "completed"
                },
                "tags": []
            },
            "outputs": [],
            "source": [
                "raw_channel_dict = {\n",
                "    \"405\": None,\n",
                "    \"488\": None,\n",
                "    \"555\": None,\n",
                "    \"640\": None,\n",
                "    \"TRANS\": None,\n",
                "}\n",
                "for f in img_files:\n",
                "    if compartment == \"raw\":\n",
                "        if \"405\" in str(f.stem):\n",
                "            raw_channel_dict[\"405\"] = f\n",
                "        elif \"488\" in str(f.stem):\n",
                "            raw_channel_dict[\"488\"] = f\n",
                "        elif \"555\" in str(f.stem):\n",
                "            raw_channel_dict[\"555\"] = f\n",
                "        elif \"640\" in str(f.stem):\n",
                "            raw_channel_dict[\"640\"] = f\n",
                "        elif \"TRANS\" in str(f.stem):\n",
                "            raw_channel_dict[\"TRANS\"] = f\n",
                "\n",
                "for f in mask_files:\n",
                "\n",
                "    if compartment == \"nuclei\":\n",
                "        if \"nuclei\" in str(f.stem) and \"mask\" in str(f.stem):\n",
                "            mask_input_dir = f\n",
                "            output_img_file_path = pathlib.Path(output_path / \"nuclei_img_output.gif\")\n",
                "            output_mask_file_path = pathlib.Path(output_path / \"nuclei_mask_output.gif\")\n",
                "\n",
                "    elif compartment == \"cell\":\n",
                "        if \"cell\" in str(f.stem) and \"mask\" in str(f.stem):\n",
                "            mask_input_dir = f\n",
                "            output_img_file_path = pathlib.Path(output_path / \"cell_img_output.gif\")\n",
                "            output_mask_file_path = pathlib.Path(output_path / \"cell_mask_output.gif\")\n",
                "    elif compartment == \"cytoplasm\":\n",
                "        if \"cytoplasm\" in str(f.stem) and \"mask\" in str(f.stem):\n",
                "            mask_input_dir = f\n",
                "            output_img_file_path = pathlib.Path(\n",
                "                output_path / \"cytoplasm_img_output.gif\"\n",
                "            )\n",
                "            output_mask_file_path = pathlib.Path(\n",
                "                output_path / \"cytoplasm_mask_output.gif\"\n",
                "            )\n",
                "    elif compartment == \"organoid\":\n",
                "        if \"organoid\" in str(f.stem) and \"mask\" in str(f.stem):\n",
                "            mask_input_dir = f\n",
                "            output_img_file_path = pathlib.Path(output_path / \"organoid_img_output.gif\")\n",
                "            output_mask_file_path = pathlib.Path(\n",
                "                output_path / \"organoid_mask_output.gif\"\n",
                "            )\n",
                "    elif compartment == \"raw\":\n",
                "        pass\n",
                "    else:\n",
                "        raise ValueError(\n",
                "            \"Invalid compartment, please choose either 'nuclei','cell', 'cytoplasm', or 'organoid\"\n",
                "        )\n",
                "\n",
                "# read in the cell masks\n",
                "if not compartment == \"raw\":\n",
                "    mask = io.imread(mask_input_dir)\n",
                "\n",
                "    # increase contrast of the image for visualization\n",
                "\n",
                "    mask = skimage.exposure.rescale_intensity(mask, out_range=(0, 255))\n",
                "\n",
                "    if np.unique(mask).max() < 256:\n",
                "        mask = mask.astype(\"uint8\")\n",
                "    else:\n",
                "        mask = mask.astype(\"uint16\")"
            ]
        },
        {
            "cell_type": "code",
            "execution_count": 4,
            "id": "ceba36d1",
            "metadata": {},
            "outputs": [],
            "source": [
                "duration = 0.001\n",
                "loop = 0"
            ]
        },
        {
            "cell_type": "markdown",
            "id": "155e4d6a",
            "metadata": {
                "papermill": {
                    "duration": 0.001349,
                    "end_time": "2024-12-11T21:35:18.908170",
                    "exception": false,
                    "start_time": "2024-12-11T21:35:18.906821",
                    "status": "completed"
                },
                "tags": []
            },
            "source": [
                "### Cell image visualization"
            ]
        },
        {
            "cell_type": "code",
            "execution_count": 5,
            "id": "d779833c",
            "metadata": {},
            "outputs": [],
            "source": [
                "import PIL.Image as Image"
            ]
        },
        {
            "cell_type": "code",
            "execution_count": 6,
            "id": "eaaa277e",
            "metadata": {},
            "outputs": [],
            "source": [
                "channel_intesnity_dict = {\"405\": 250, \"488\": 200, \"555\": 200, \"640\": 50, \"TRANS\": 255}"
            ]
        },
        {
            "cell_type": "code",
            "execution_count": 7,
            "id": "05c5a238",
            "metadata": {
                "execution": {
                    "iopub.execute_input": "2024-12-11T21:35:18.911707Z",
                    "iopub.status.busy": "2024-12-11T21:35:18.911550Z",
                    "iopub.status.idle": "2024-12-11T21:35:21.258440Z",
                    "shell.execute_reply": "2024-12-11T21:35:21.258045Z"
                },
                "papermill": {
                    "duration": 2.349831,
                    "end_time": "2024-12-11T21:35:21.259384",
                    "exception": false,
                    "start_time": "2024-12-11T21:35:18.909553",
                    "status": "completed"
                },
                "tags": []
            },
            "outputs": [],
            "source": [
                "if compartment == \"raw\":\n",
                "    for img_path in raw_channel_dict.keys():\n",
                "        img = io.imread(raw_channel_dict[img_path])\n",
                "        img = skimage.exposure.rescale_intensity(img, out_range=(0, 255))\n",
                "        # img = skimage.exposure.equalize_adapthist(img, clip_limit=0.1)\n",
                "        img = img / channel_intesnity_dict[img_path] * 255\n",
                "        frames = [img[i] for i in range(img.shape[0])]\n",
                "        raw_output_file_path = pathlib.Path(\n",
                "            output_path / f\"{img_path}_output.gif\"\n",
                "        ).resolve()\n",
                "        # Write the frames to a GIF\n",
                "        imageio.mimsave(raw_output_file_path, frames, duration=duration, loop=loop)\n",
                "else:\n",
                "    frames = [mask[i] for i in range(mask.shape[0])]\n",
                "\n",
                "    # Write the frames to a GIF\n",
                "    imageio.mimsave(\n",
                "        output_mask_file_path, frames, duration=duration, loop=loop\n",
                "    )  # duration is the time between frames in seconds"
            ]
        }
    ],
    "metadata": {
        "kernelspec": {
            "display_name": "GFF_segmentation",
            "language": "python",
            "name": "python3"
        },
        "language_info": {
            "codemirror_mode": {
                "name": "ipython",
                "version": 3
            },
            "file_extension": ".py",
            "mimetype": "text/x-python",
            "name": "python",
            "nbconvert_exporter": "python",
            "pygments_lexer": "ipython3",
            "version": "3.11.11"
        },
        "papermill": {
            "default_parameters": {},
            "duration": 5.403132,
            "end_time": "2024-12-11T21:35:23.255835",
            "environment_variables": {},
            "exception": null,
            "input_path": "3.make_cell_segmentation_videos.ipynb",
            "output_path": "3.make_cell_segmentation_videos.ipynb",
            "parameters": {},
            "start_time": "2024-12-11T21:35:17.852703",
            "version": "2.6.0"
        }
    },
    "nbformat": 4,
    "nbformat_minor": 5
}
