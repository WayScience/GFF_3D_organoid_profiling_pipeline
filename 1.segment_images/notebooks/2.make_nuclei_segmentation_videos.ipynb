{
    "cells": [
        {
            "cell_type": "markdown",
            "id": "85a83209",
            "metadata": {},
            "source": [
                "This notebook makes gifs of the z-stack segmentaions"
            ]
        },
        {
            "cell_type": "code",
            "execution_count": 1,
            "id": "1352e2be",
            "metadata": {
                "execution": {
                    "iopub.execute_input": "2024-12-11T21:35:12.837739Z",
                    "iopub.status.busy": "2024-12-11T21:35:12.837537Z",
                    "iopub.status.idle": "2024-12-11T21:35:12.996676Z",
                    "shell.execute_reply": "2024-12-11T21:35:12.996306Z"
                },
                "papermill": {
                    "duration": 0.162483,
                    "end_time": "2024-12-11T21:35:12.997605",
                    "exception": false,
                    "start_time": "2024-12-11T21:35:12.835122",
                    "status": "completed"
                },
                "tags": []
            },
            "outputs": [],
            "source": [
                "import argparse\n",
                "import pathlib\n",
                "\n",
                "import imageio\n",
                "import numpy as np\n",
                "import skimage\n",
                "import skimage.io as io\n",
                "\n",
                "# check if in a jupyter notebook\n",
                "try:\n",
                "    cfg = get_ipython().config\n",
                "    in_notebook = True\n",
                "except NameError:\n",
                "    in_notebook = False"
            ]
        },
        {
            "cell_type": "code",
            "execution_count": 2,
            "id": "39d89d93",
            "metadata": {
                "execution": {
                    "iopub.execute_input": "2024-12-11T21:35:13.001673Z",
                    "iopub.status.busy": "2024-12-11T21:35:13.001388Z",
                    "iopub.status.idle": "2024-12-11T21:35:13.005723Z",
                    "shell.execute_reply": "2024-12-11T21:35:13.005422Z"
                },
                "papermill": {
                    "duration": 0.006813,
                    "end_time": "2024-12-11T21:35:13.006263",
                    "exception": false,
                    "start_time": "2024-12-11T21:35:12.999450",
                    "status": "completed"
                },
                "tags": []
            },
            "outputs": [
                {
                    "name": "stdout",
                    "output_type": "stream",
                    "text": [
                        "Running in a notebook\n"
                    ]
                }
            ],
            "source": [
                "if not in_notebook:\n",
                "    print(\"Running as script\")\n",
                "    # set up arg parser\n",
                "    parser = argparse.ArgumentParser(description=\"Segment the nuclei of a tiff image\")\n",
                "\n",
                "    parser.add_argument(\n",
                "        \"--input_dir\",\n",
                "        type=str,\n",
                "        help=\"Path to the input directory containing the tiff images\",\n",
                "    )\n",
                "\n",
                "    args = parser.parse_args()\n",
                "    input_dir = pathlib.Path(args.input_dir).resolve(strict=True)\n",
                "    mask_input_dir = pathlib.Path(f\"../processed_data/{input_dir.stem}\").resolve(\n",
                "        strict=True\n",
                "    )\n",
                "else:\n",
                "    print(\"Running in a notebook\")\n",
                "    input_dir = pathlib.Path(\"../../data/z-stack_images/raw_z_input/\").resolve(\n",
                "        strict=True\n",
                "    )\n",
                "    mask_input_dir = pathlib.Path(f\"../processed_data/{input_dir.stem}\").resolve(\n",
                "        strict=True\n",
                "    )\n",
                "\n",
                "\n",
                "output_path = pathlib.Path(f\"../processed_data/{input_dir.stem}/gifs/\").resolve()\n",
                "output_path.mkdir(parents=True, exist_ok=True)\n",
                "img_files = sorted(input_dir.glob(\"*\"))\n",
                "mask_files = sorted(mask_input_dir.glob(\"*\"))"
            ]
        },
        {
            "cell_type": "markdown",
            "id": "b600d00d",
            "metadata": {
                "papermill": {
                    "duration": 0.001419,
                    "end_time": "2024-12-11T21:35:13.008887",
                    "exception": false,
                    "start_time": "2024-12-11T21:35:13.007468",
                    "status": "completed"
                },
                "tags": []
            },
            "source": [
                "## Nuclei "
            ]
        },
        {
            "cell_type": "markdown",
            "id": "34fdcc0c",
            "metadata": {
                "papermill": {
                    "duration": 0.001207,
                    "end_time": "2024-12-11T21:35:13.011394",
                    "exception": false,
                    "start_time": "2024-12-11T21:35:13.010187",
                    "status": "completed"
                },
                "tags": []
            },
            "source": [
                "### Pathing and loading images"
            ]
        },
        {
            "cell_type": "code",
            "execution_count": 3,
            "id": "76a0af43",
            "metadata": {
                "execution": {
                    "iopub.execute_input": "2024-12-11T21:35:13.015036Z",
                    "iopub.status.busy": "2024-12-11T21:35:13.014717Z",
                    "iopub.status.idle": "2024-12-11T21:35:13.216845Z",
                    "shell.execute_reply": "2024-12-11T21:35:13.216437Z"
                },
                "papermill": {
                    "duration": 0.204934,
                    "end_time": "2024-12-11T21:35:13.217772",
                    "exception": false,
                    "start_time": "2024-12-11T21:35:13.012838",
                    "status": "completed"
                },
                "tags": []
            },
            "outputs": [],
            "source": [
                "for f in img_files:\n",
                "    if \"405\" in str(f):\n",
                "        nuclei_img_path = f\n",
                "for f in mask_files:\n",
                "    if \"nuclei\" in str(f):\n",
                "        nuclei_mask_path = f\n",
                "\n",
                "# read in the nucei masks\n",
                "nuclei_img = io.imread(nuclei_img_path)\n",
                "nuclei_mask = io.imread(nuclei_mask_path)\n",
                "\n",
                "# scale the images to unit8\n",
                "nuclei_img = (nuclei_img / 255).astype(\"uint8\") * 2\n",
                "nuclei_mask = (nuclei_mask).astype(\"uint8\") * 16"
            ]
        },
        {
            "cell_type": "markdown",
            "id": "03869008",
            "metadata": {
                "papermill": {
                    "duration": 0.001513,
                    "end_time": "2024-12-11T21:35:13.220988",
                    "exception": false,
                    "start_time": "2024-12-11T21:35:13.219475",
                    "status": "completed"
                },
                "tags": []
            },
            "source": [
                "### Image visualization"
            ]
        },
        {
            "cell_type": "code",
            "execution_count": 4,
            "id": "01fb13c4",
            "metadata": {
                "execution": {
                    "iopub.execute_input": "2024-12-11T21:35:13.224680Z",
                    "iopub.status.busy": "2024-12-11T21:35:13.224498Z",
                    "iopub.status.idle": "2024-12-11T21:35:15.996477Z",
                    "shell.execute_reply": "2024-12-11T21:35:15.996040Z"
                },
                "papermill": {
                    "duration": 2.774912,
                    "end_time": "2024-12-11T21:35:15.997460",
                    "exception": false,
                    "start_time": "2024-12-11T21:35:13.222548",
                    "status": "completed"
                },
                "tags": []
            },
            "outputs": [],
            "source": [
                "frames = [nuclei_img[i] for i in range(nuclei_img.shape[0])]\n",
                "\n",
                "# Write the frames to a GIF\n",
                "output_file_path = pathlib.Path(output_path / \"nuclei_img_output.gif\")\n",
                "imageio.mimsave(output_file_path, frames, duration=0.1, loop=10)"
            ]
        },
        {
            "cell_type": "markdown",
            "id": "e728d6f5",
            "metadata": {
                "papermill": {
                    "duration": 0.001523,
                    "end_time": "2024-12-11T21:35:16.000638",
                    "exception": false,
                    "start_time": "2024-12-11T21:35:15.999115",
                    "status": "completed"
                },
                "tags": []
            },
            "source": [
                "### Segmentation visualization"
            ]
        },
        {
            "cell_type": "code",
            "execution_count": 5,
            "id": "5122b371",
            "metadata": {
                "execution": {
                    "iopub.execute_input": "2024-12-11T21:35:16.004469Z",
                    "iopub.status.busy": "2024-12-11T21:35:16.004195Z",
                    "iopub.status.idle": "2024-12-11T21:35:17.375430Z",
                    "shell.execute_reply": "2024-12-11T21:35:17.375053Z"
                },
                "papermill": {
                    "duration": 1.374167,
                    "end_time": "2024-12-11T21:35:17.376334",
                    "exception": false,
                    "start_time": "2024-12-11T21:35:16.002167",
                    "status": "completed"
                },
                "tags": []
            },
            "outputs": [],
            "source": [
                "frames = [nuclei_mask[i] for i in range(nuclei_mask.shape[0])]\n",
                "\n",
                "# Write the frames to a GIF\n",
                "output_file_path = pathlib.Path(output_path / \"nuclei_mask_output.gif\")\n",
                "imageio.mimsave(output_file_path, frames, duration=0.1, loop=10)"
            ]
        }
    ],
    "metadata": {
        "kernelspec": {
            "display_name": "GFF_cellpose",
            "language": "python",
            "name": "python3"
        },
        "language_info": {
            "codemirror_mode": {
                "name": "ipython",
                "version": 3
            },
            "file_extension": ".py",
            "mimetype": "text/x-python",
            "name": "python",
            "nbconvert_exporter": "python",
            "pygments_lexer": "ipython3",
            "version": "3.9.21"
        },
        "papermill": {
            "default_parameters": {},
            "duration": 5.319143,
            "end_time": "2024-12-11T21:35:17.493589",
            "environment_variables": {},
            "exception": null,
            "input_path": "2.make_nuclei_segmentation_videos.ipynb",
            "output_path": "2.make_nuclei_segmentation_videos.ipynb",
            "parameters": {},
            "start_time": "2024-12-11T21:35:12.174446",
            "version": "2.6.0"
        }
    },
    "nbformat": 4,
    "nbformat_minor": 5
}
