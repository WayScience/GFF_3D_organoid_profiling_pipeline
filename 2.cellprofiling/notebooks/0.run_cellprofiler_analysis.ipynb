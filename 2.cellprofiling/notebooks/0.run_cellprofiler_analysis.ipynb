{
    "cells": [
        {
            "attachments": {},
            "cell_type": "markdown",
            "metadata": {},
            "source": [
                "# Perform segmentation and feature extraction for each plate using CellProfiler Parallel"
            ]
        },
        {
            "attachments": {},
            "cell_type": "markdown",
            "metadata": {},
            "source": [
                "## Import libraries"
            ]
        },
        {
            "cell_type": "code",
            "execution_count": 1,
            "metadata": {},
            "outputs": [],
            "source": [
                "import argparse\n",
                "import pathlib\n",
                "import pprint\n",
                "import sys\n",
                "import time\n",
                "import tracemalloc\n",
                "\n",
                "import matplotlib.pyplot as plt\n",
                "import pandas as pd\n",
                "\n",
                "sys.path.append(\"../../utils\")\n",
                "from cp_utils import run_cellprofiler\n",
                "\n",
                "# import run_cellprofiler\n",
                "\n",
                "# check if in a jupyter notebook\n",
                "try:\n",
                "    cfg = get_ipython().config\n",
                "    in_notebook = True\n",
                "except NameError:\n",
                "    in_notebook = False"
            ]
        },
        {
            "cell_type": "code",
            "execution_count": 2,
            "metadata": {},
            "outputs": [
                {
                    "name": "stdout",
                    "output_type": "stream",
                    "text": [
                        "Running in a notebook\n",
                        "Input directory: /home/lippincm/Documents/GFF_3D_organoid_profiling_pipeline/data/cellprofiler\n"
                    ]
                }
            ],
            "source": [
                "if not in_notebook:\n",
                "    print(\"Running as script\")\n",
                "    # set up arg parser\n",
                "    parser = argparse.ArgumentParser(description=\"Segment the nuclei of a tiff image\")\n",
                "\n",
                "    parser.add_argument(\n",
                "        \"--input_dir\",\n",
                "        type=str,\n",
                "        help=\"Path to the input directory containing the tiff images\",\n",
                "    )\n",
                "\n",
                "    args = parser.parse_args()\n",
                "    input_dir = pathlib.Path(args.input_dir).resolve(strict=True)\n",
                "else:\n",
                "    print(\"Running in a notebook\")\n",
                "    input_dir = pathlib.Path(\"../../data/cellprofiler\").resolve(strict=True)\n",
                "\n",
                "print(f\"Input directory: {input_dir}\")"
            ]
        },
        {
            "attachments": {},
            "cell_type": "markdown",
            "metadata": {},
            "source": [
                "## Set paths and variables"
            ]
        },
        {
            "cell_type": "code",
            "execution_count": 3,
            "metadata": {},
            "outputs": [],
            "source": [
                "# set the run type for the parallelization\n",
                "run_name = \"analysis\"\n",
                "\n",
                "# directory where images are located within folders\n",
                "images_dir = pathlib.Path(\"../../data/cellprofiler/raw_z_input/\").resolve(strict=True)\n",
                "\n",
                "path_to_pipeline = pathlib.Path(\"../pipelines/pipeline.cppipe\").resolve(strict=True)\n",
                "\n",
                "# set main output dir for all plates\n",
                "output_dir = pathlib.Path(f\"../analysis_output/{images_dir.stem}\").resolve()\n",
                "output_dir.mkdir(exist_ok=True, parents=True)\n",
                "sqlite_name = images_dir.stem"
            ]
        },
        {
            "attachments": {},
            "cell_type": "markdown",
            "metadata": {},
            "source": [
                "## Run analysis pipeline on each plate in parallel\n",
                "\n",
                "This cell is not finished to completion due to how long it would take. It is ran in the python file instead."
            ]
        },
        {
            "cell_type": "code",
            "execution_count": 4,
            "metadata": {},
            "outputs": [],
            "source": [
                "start = time.time()\n",
                "# memory profile\n",
                "tracemalloc.start()"
            ]
        },
        {
            "cell_type": "code",
            "execution_count": 5,
            "metadata": {},
            "outputs": [
                {
                    "name": "stdout",
                    "output_type": "stream",
                    "text": [
                        "The file is renamed to raw_z_input.sqlite!\n"
                    ]
                }
            ],
            "source": [
                "run_cellprofiler(\n",
                "    path_to_pipeline=str(path_to_pipeline),\n",
                "    path_to_input=str(input_dir),\n",
                "    path_to_output=str(output_dir),\n",
                "    analysis_run=True,\n",
                "    hardcode_sqlite_name=\"temporary\",\n",
                "    sqlite_name=sqlite_name,\n",
                "    rename_sqlite_file_bool=True,\n",
                ")"
            ]
        },
        {
            "cell_type": "code",
            "execution_count": 6,
            "metadata": {},
            "outputs": [
                {
                    "name": "stdout",
                    "output_type": "stream",
                    "text": [
                        "Peak memory usage: 0.009853MB\n",
                        "Cumulative memory usage: 0.043461MB\n"
                    ]
                }
            ],
            "source": [
                "end = time.time()\n",
                "\n",
                "# get the memory usage\n",
                "snapshot = tracemalloc.take_snapshot()\n",
                "# peak memory usage\n",
                "top_stats = snapshot.statistics(\"lineno\")\n",
                "\n",
                "cumulative_mem = 0\n",
                "peak_mem = 0\n",
                "\n",
                "for stat in top_stats:\n",
                "    cumulative_mem += stat.size\n",
                "    peak_mem = max(peak_mem, stat.size)\n",
                "\n",
                "print(f\"Peak memory usage: {peak_mem / 10**6}MB\")\n",
                "print(f\"Cumulative memory usage: {cumulative_mem / 10**6}MB\")"
            ]
        },
        {
            "cell_type": "code",
            "execution_count": 7,
            "metadata": {},
            "outputs": [
                {
                    "name": "stdout",
                    "output_type": "stream",
                    "text": [
                        "Total time taken: 00:04:10.40\n"
                    ]
                }
            ],
            "source": [
                "# format the time taken into hours, minutes, seconds\n",
                "hours, rem = divmod(end - start, 3600)\n",
                "minutes, seconds = divmod(rem, 60)\n",
                "print(\n",
                "    \"Total time taken: {:0>2}:{:0>2}:{:05.2f}\".format(int(hours), int(minutes), seconds)\n",
                ")"
            ]
        }
    ],
    "metadata": {
        "kernelspec": {
            "display_name": "GFF_cellprofiler",
            "language": "python",
            "name": "python3"
        },
        "language_info": {
            "codemirror_mode": {
                "name": "ipython",
                "version": 3
            },
            "file_extension": ".py",
            "mimetype": "text/x-python",
            "name": "python",
            "nbconvert_exporter": "python",
            "pygments_lexer": "ipython3",
            "version": "3.8.19"
        },
        "orig_nbformat": 4
    },
    "nbformat": 4,
    "nbformat_minor": 2
}
